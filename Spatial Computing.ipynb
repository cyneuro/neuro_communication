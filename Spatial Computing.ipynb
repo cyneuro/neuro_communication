{
 "cells": [
  {
   "cell_type": "markdown",
   "id": "9bff71a7-b269-40bf-b2cd-c78f5d103ea2",
   "metadata": {},
   "source": [
    "# Spatial Computing Theory"
   ]
  },
  {
   "cell_type": "markdown",
   "id": "887ef9ff-141e-4b67-98c5-9ef8de5579fc",
   "metadata": {},
   "source": [
    "Broadly, spatial computing is the theory that brain rhythm interactions dynamically dispersed across the cortex underlie working memory functions. Essentially this process involves dynamic communication between regions via the interaction between brain rhythms inherent to each area. There are several existing hypotheses regarding how this communication occurs, namely the Communication Through Coherence (CTC) hypothesis promoted by Pascal Fries and the theory forwarded by the Synaptic Source Mixing Model (SSM) promoted by Martin Vinck. "
   ]
  },
  {
   "cell_type": "markdown",
   "id": "2bfb9298-9b19-451c-9b2c-b64b1a060fad",
   "metadata": {},
   "source": [
    "## Communication Through Coherence"
   ]
  },
  {
   "cell_type": "markdown",
   "id": "e2eaa7bd-b1e8-4a18-b05f-80d429e90ee6",
   "metadata": {},
   "source": [
    "The communication through coherence hypothesis suggests that (as its name implies) communication depends on coherence and the absence of coherence prevents communication. This is plausible given the tendency of activated neuronal groups to fire in an oscillatory manner (producing the brain rhythms we are familiar with) and the fact that these oscillations result in altered neuronal excitability that affects the tendency of a given neuronal group to fire and their sensitivity to synaptic input. So, oscillations of a neuronal group rhythmically open and close a group's window for communication. The window of communication is only open when the oscillations or brain rhythms of both neuronal populations are in sync, or coherent. \n"
   ]
  },
  {
   "cell_type": "markdown",
   "id": "b657c59b-9236-46c3-b380-61f5cc055069",
   "metadata": {},
   "source": [
    "## Coherence Through Communication (SSM)"
   ]
  },
  {
   "cell_type": "markdown",
   "id": "b8554cad-aca1-4eee-97fb-66fe4a1aad9b",
   "metadata": {},
   "source": [
    "In opposition to the communication through coherence theory, this alternative suggests that cohrence is a byproduct of neuronal communication. It does not suggest that spiking in sender and receiver regions need be phase locked. Instead, the production of coherence depends on power and phase locking in the sending region and resulting connections to the receiving region. This thoery suggests that a sender's synaptic inputs do not come at an excitable phase of local rhythms in receivers. Instead, the sending region's spikes are coherent with those they induce in the receiving region (known as source projection coherence). So, coherence between the sending and receiving region as source projection coherence is a byproduct of communication having occurred between the sending and receiving regions. "
   ]
  },
  {
   "cell_type": "code",
   "execution_count": null,
   "id": "4135a652-713e-4ac0-a8bc-1a815b521bc5",
   "metadata": {},
   "outputs": [],
   "source": []
  }
 ],
 "metadata": {
  "kernelspec": {
   "display_name": "Python 3 (ipykernel)",
   "language": "python",
   "name": "python3"
  },
  "language_info": {
   "codemirror_mode": {
    "name": "ipython",
    "version": 3
   },
   "file_extension": ".py",
   "mimetype": "text/x-python",
   "name": "python",
   "nbconvert_exporter": "python",
   "pygments_lexer": "ipython3",
   "version": "3.12.7"
  }
 },
 "nbformat": 4,
 "nbformat_minor": 5
}
