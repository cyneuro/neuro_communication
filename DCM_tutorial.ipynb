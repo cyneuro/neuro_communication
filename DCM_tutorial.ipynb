{
 "cells": [
  {
   "cell_type": "markdown",
   "id": "116e134d-1e21-4ace-a670-0e90fa1fefcb",
   "metadata": {},
   "source": [
    "# DCM Tutorial "
   ]
  },
  {
   "cell_type": "markdown",
   "id": "5e56317f-cfae-4334-b807-ec73bc00072d",
   "metadata": {},
   "source": [
    "The dynamic causal model, first presented by Friston, et al. xxxx, provides a means of modeling the effective connectivity between neural populations that underlies task based or resting state functional neuroimaging data as measured through fMRI, EEG, and MEG. "
   ]
  },
  {
   "cell_type": "markdown",
   "id": "7b69c7b7-ca12-4433-98cf-a1dfff09901e",
   "metadata": {},
   "source": [
    "## Model Components"
   ]
  },
  {
   "cell_type": "markdown",
   "id": "4d334d3d-080e-4e4c-b630-9335d2849d0c",
   "metadata": {},
   "source": [
    "The model consists of three main parts:\n",
    "\n",
    "-  **Dynamic Causal Model:** A model that combines a bilinear model of neuronal dynamics with a neuroimaging method - specific model (based on hemodynamic or electrophysiological signatures). Proposed brain regions and potential connections between regions are specified in one or more candidate models.\n",
    "-  **Variational Laplace:** The process by which candidate model parameters are optimized and their uncertainty is determined. Approximates the log marginal likelihood for each model using variational free energy. Comparing the free energy of candidate models enalbes the model that best explains the data to be selected.\n",
    "-  **Model Selection & Comparison:** The process by which model structure is selected. There are two common approaches:\n",
    "    - **Bayesian Model Selection (BMS):** Multiple DCM models are optimized, where each describes a hypothesis about the connectivity between brain regions of interest. The model that best describes each participant's data is determined and the average connectivity parameters are determined using Bayesian Model Averaging, with each parameter a weighted average of the candidate models based on each's prior probability.\n",
    "    - **Parametric Empirical Bayes (PEB):** Assumes that each participant varies in the strength of connection between regions. Models the soruces of variability in connection strengths across subjects using fixed and random effects. Specifies one DCM per subject and a Bayesian GLM to model parameters at the group level. Tests hypotheses by comparing the group level model to reduced group level models where certain combinations of connections are switched on and off to determine the best fit for the data. "
   ]
  },
  {
   "cell_type": "markdown",
   "id": "6acaf4b2-2d91-43a5-9e02-2b8d492aebcd",
   "metadata": {},
   "source": [
    "## General DCM Model: Mathematical Framework "
   ]
  },
  {
   "cell_type": "markdown",
   "id": "bd544055-73c4-48a4-9d17-166a81221816",
   "metadata": {},
   "source": [
    "This model produces a deterministic model of neurla dynamics in a network of n interacting brain regions/nodes. "
   ]
  },
  {
   "cell_type": "markdown",
   "id": "a566c534-95ff-4403-819c-82db2c555e71",
   "metadata": {},
   "source": [
    "The model transforms a neuronal state vector $\\vec{x}$ where each region is represented by a single hidden state using the bilinear differential equation:\n",
    "\n",
    "$\\frac{dx}{dt} = f(x, u, \\theta) = Ax + \\Sigma_{j=1}^m u_j B^{(j)} x + Cu$ \n",
    "\n",
    "where\n",
    "\n",
    "$u$ represents the external or exogenous input.\n",
    "\n",
    "$A = \\frac{\\del f}{\\del x} |_{u=0}$ represents the fixed (average) coupling among nodes in the absence of exogenous output $u(t)$. This roughly represents latent coupling among nodes in the absence of experimental perturbations.\n",
    "\n",
    "$B = \\frac{\\del^2 f}{\\del x \\del u}$ represents the change in latent coupling induced by the jth input, which encodes context sensitive changes in A, or modulations of coupling by experimental perturbations. \n",
    "\n",
    "$C = \\frac{\\del f}{\\del u} |_{x = 0}$ represents the influence of exogneous inputs that cause perturbations in hidden states. "
   ]
  },
  {
   "cell_type": "markdown",
   "id": "36479e2b-7f03-452f-b0cd-7b9aeb632c41",
   "metadata": {},
   "source": [
    "The model results from a bilinear Taylor approximation to any dynamical model of how changes in neuronal activity in node x_i are caused by changes in the others. Parameters $A, B, C \\in \\theta$ are coupling parameters we seek to find that determine the functional architecture and interactions between brain regions at a neuronal level. "
   ]
  },
  {
   "cell_type": "markdown",
   "id": "5c13f20a-73d6-4794-88b7-242a0e125ab6",
   "metadata": {},
   "source": [
    "## DCM for fMRI: Hemodynamic Model "
   ]
  },
  {
   "cell_type": "markdown",
   "id": "22a66fd4-633d-4a9f-b892-598774fa61fe",
   "metadata": {},
   "source": [
    "This model describes the transformation of neural activity into a BOLD response. The common hemodynamic model uses the \"balloon model\", which uses the analogy of an inflated balloon to describe the behavior of the postcapillary venous component of the blood vessels \"feeding\" the neurons to encourage activity. The model postulates a nonlinear dependence of the BOLD signal on blood volume $V$ and deoxyhemoglobin content $q$. It explores the evolution of $V$ and $q$ by two differential equations operating under the assumptions that: \n",
    "\n",
    "- Small post capillary blood vessels releact to an influx of blood like an inflating balloon. So, changes in normalized blood volume $V$ correspond to differences in flow $f_i$ and outflow $f_o$ with some time constant $\\tau$ where $\\tau$ represents the mean transit time for blood to traverse the venous compartment such that $ \\tau = \\frac{V_0}{f_0} = \\frac{\\text{resting blood volume}}{\\text{resting blood flow}}$. Outflow $f_o$ is modelled as a function of volume with parameter $\\alpha$ the resistance of the venous balloon: $f_o = v^{1/\\alpha}$.\n",
    "\n",
    "- Oxygen extraction is highly coupled to blood flow, so it determines the deoxyhemoglobin content $q$. Generally a change in $q$ refers to a delivery of deoxyhemoglobin into the venous compartment minus that expelled at a given time point. So, the oxygen gradient across the capillary wall and oxygen extraction rate depend entirely on oxygen delivery, and as a result, blood flow.\n",
    "\n",
    "These assumptions lead to state equations for $V$ and $q$:\n",
    "\n",
    "$\\tau \\frac{dV}{dt} = f_i(t) - v(t)^{1/\\alpha}$\n",
    "\n",
    "$\\tau \\frac{dq}{dt} = f_i(t) ( \\frac{1 - (1 - E_0)^{1/f_i}}{E_0}) - v(t)^{1/\\alpha}(\\frac{q(t)}{(v(t)}$\n",
    "\n",
    "where $E_0$ is oxygen extraction fraction at rest. "
   ]
  },
  {
   "cell_type": "markdown",
   "id": "f31bb53a-849f-4cc6-935a-c999d974085c",
   "metadata": {},
   "source": [
    "The hemodynamic model also has vascular state equations that address how bloodflow depends on neural activity, connecting to the neural state vector $x$. These vascular responses to neural activity correspond to a damped oscillator: changes in neural activity $x$ elicit exponentially decaying vasodilatory signal $s$ subject to feedback regulation by the flow $f$ which is normalized to resting flow $F_0$ that it induces. This results in two equations:\n",
    "\n",
    "$ \\frac{ds}{dt} = x - \\kappa s - \\gamma(f-1)$\n",
    "\n",
    "$\\frac{df}{dt} = s$ \n",
    "\n",
    "where $x$ is the neural state vector, $\\kappa$ the rate constant of signal decay, and $\\gamma$ the rate constant of feedback regulation. "
   ]
  },
  {
   "cell_type": "markdown",
   "id": "4889ffaf-1427-4c18-98df-1a1099b940d5",
   "metadata": {},
   "source": [
    "Several variants of the BOLD model itself, which unites parameters determined by the prior equations, but all are variations on a general model proposed by Stephen et al. 2007: \n",
    "\n",
    "$ \\frac{\\delta s}{s_0} = v_0 ( k_1(1 - q) + k_2(1 - \\frac{q}{v}) + k_3(1 - v))$ \n",
    "\n",
    "where \n",
    "\n",
    "$k_1 = 4.3 \\upsilon_0 E_0 T E$\n",
    "\n",
    "$k_2 = \\epsilon r_0 E_0 TE$\n",
    "\n",
    "$k_3 = 1 - \\epsilon$\n",
    "\n",
    "and $\\upsilon_0$ is the frequency offset for fully deoxygenated blood ($\\upsilon = 40.3 s^{-1}$ at 1.5 teslas, $\\epsilon$ is the ratio of intra and exogenous signal, TE is the time elapsed between when protons are excited and measured (how long signal creation takes), and $s_0$ is the BOLD signal at rest, described by:\n",
    "\n",
    "$s_0 = (1 - V_0)S_E + V_0S_I$\n",
    "\n",
    "where $V_0$ is the resting venous volume fraction, $S_E$ is the extravenous signal, and $S_I$ the intravascular signal. "
   ]
  },
  {
   "cell_type": "markdown",
   "id": "71ebc615-ca6c-452a-9d60-513b0c6e9b45",
   "metadata": {},
   "source": [
    "For any combination of parameters $\\theta$ and inputs $u$, the measured BOLD response $y$ is modelled as a predicted BOLD signal $h(x, u, \\theta)$ plus a linear combination of confounds $X\\beta$ and Gaussian observation error:\n",
    "\n",
    "$y = h(x, u, \\theta) + X\\beta + \\epsilon$"
   ]
  },
  {
   "cell_type": "markdown",
   "id": "60b1421d-9b29-4894-b63e-685340f15164",
   "metadata": {},
   "source": [
    "## DCM for EEG: Electrophysiological Model"
   ]
  },
  {
   "cell_type": "markdown",
   "id": "646cbbc3-6702-4653-a68d-d17dcfcf9599",
   "metadata": {},
   "source": [
    "Originally presented in David, Kiebel, et al. 2006."
   ]
  },
  {
   "cell_type": "code",
   "execution_count": null,
   "id": "8fa6bfcc-97d2-4fd8-8676-47e78a0789c4",
   "metadata": {},
   "outputs": [],
   "source": []
  }
 ],
 "metadata": {
  "kernelspec": {
   "display_name": "Python 3 (ipykernel)",
   "language": "python",
   "name": "python3"
  },
  "language_info": {
   "codemirror_mode": {
    "name": "ipython",
    "version": 3
   },
   "file_extension": ".py",
   "mimetype": "text/x-python",
   "name": "python",
   "nbconvert_exporter": "python",
   "pygments_lexer": "ipython3",
   "version": "3.12.4"
  }
 },
 "nbformat": 4,
 "nbformat_minor": 5
}
