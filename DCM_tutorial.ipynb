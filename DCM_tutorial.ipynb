{
 "cells": [
  {
   "cell_type": "markdown",
   "id": "116e134d-1e21-4ace-a670-0e90fa1fefcb",
   "metadata": {},
   "source": [
    "# DCM Tutorial "
   ]
  },
  {
   "cell_type": "markdown",
   "id": "5e56317f-cfae-4334-b807-ec73bc00072d",
   "metadata": {},
   "source": [
    "The dynamic causal model, first presented by Friston, et al. 2002, provides a means of modeling the effective connectivity between neural populations that underlies task based or resting state functional neuroimaging data as measured through fMRI, EEG, and MEG. "
   ]
  },
  {
   "cell_type": "markdown",
   "id": "7b69c7b7-ca12-4433-98cf-a1dfff09901e",
   "metadata": {},
   "source": [
    "## Model Components"
   ]
  },
  {
   "cell_type": "markdown",
   "id": "4d334d3d-080e-4e4c-b630-9335d2849d0c",
   "metadata": {},
   "source": [
    "The model consists of three main parts:\n",
    "\n",
    "-  **Dynamic Causal Model:** A model that combines a bilinear model of neuronal dynamics with a neuroimaging method - specific model (based on hemodynamic or electrophysiological signatures). Proposed brain regions and potential connections between regions are specified in one or more candidate models.\n",
    "-  **Variational Laplace:** The process by which candidate model parameters are optimized and their uncertainty is determined. Approximates the log marginal likelihood for each model using variational free energy. Comparing the free energy of candidate models enalbes the model that best explains the data to be selected.\n",
    "-  **Model Selection & Comparison:** The process by which model structure is selected. There are two common approaches:\n",
    "    - **Bayesian Model Selection (BMS):** Multiple DCM models are optimized, where each describes a hypothesis about the connectivity between brain regions of interest. The model that best describes each participant's data is determined and the average connectivity parameters are determined using Bayesian Model Averaging, with each parameter a weighted average of the candidate models based on each's prior probability.\n",
    "    - **Parametric Empirical Bayes (PEB):** Assumes that each participant varies in the strength of connection between regions. Models the soruces of variability in connection strengths across subjects using fixed and random effects. Specifies one DCM per subject and a Bayesian GLM to model parameters at the group level. Tests hypotheses by comparing the group level model to reduced group level models where certain combinations of connections are switched on and off to determine the best fit for the data. "
   ]
  },
  {
   "cell_type": "markdown",
   "id": "6acaf4b2-2d91-43a5-9e02-2b8d492aebcd",
   "metadata": {},
   "source": [
    "## (1) General DCM Model: Mathematical Framework "
   ]
  },
  {
   "cell_type": "markdown",
   "id": "bd544055-73c4-48a4-9d17-166a81221816",
   "metadata": {},
   "source": [
    "This model produces a deterministic model of neurla dynamics in a network of n interacting brain regions/nodes. "
   ]
  },
  {
   "cell_type": "markdown",
   "id": "a566c534-95ff-4403-819c-82db2c555e71",
   "metadata": {},
   "source": [
    "The model transforms a neuronal state vector $\\vec{x}$ where each region is represented by a single hidden state using the bilinear differential equation:\n",
    "\n",
    "$\\frac{dx}{dt} = f(x, u, \\theta) = Ax + \\Sigma_{j=1}^m u_j B^{(j)} x + Cu$ \n",
    "\n",
    "where\n",
    "\n",
    "$u$ represents the external or exogenous input.\n",
    "\n",
    "$A = \\frac{\\partial f}{\\partial x} |_{u=0}$ represents the fixed (average) coupling among nodes in the absence of exogenous output $u(t)$. This roughly represents latent coupling among nodes in the absence of experimental perturbations.\n",
    "\n",
    "$B = \\frac{\\partial^2 f}{\\partial x \\partial u}$ represents the change in latent coupling induced by the jth input, which encodes context sensitive changes in A, or modulations of coupling by experimental perturbations. \n",
    "\n",
    "$C = \\frac{\\partial f}{\\partial u} |_{x = 0}$ represents the influence of exogneous inputs that cause perturbations in hidden states. "
   ]
  },
  {
   "cell_type": "markdown",
   "id": "36479e2b-7f03-452f-b0cd-7b9aeb632c41",
   "metadata": {},
   "source": [
    "The model results from a bilinear Taylor approximation to any dynamical model of how changes in neuronal activity in node x_i are caused by changes in the others. Parameters $A, B, C \\in \\theta$ are coupling parameters we seek to find that determine the functional architecture and interactions between brain regions at a neuronal level. "
   ]
  },
  {
   "cell_type": "markdown",
   "id": "5c13f20a-73d6-4794-88b7-242a0e125ab6",
   "metadata": {},
   "source": [
    "### DCM for fMRI: Hemodynamic Model "
   ]
  },
  {
   "cell_type": "markdown",
   "id": "22a66fd4-633d-4a9f-b892-598774fa61fe",
   "metadata": {},
   "source": [
    "This model describes the transformation of neural activity into a BOLD response. The common hemodynamic model uses the \"balloon model\", which uses the analogy of an inflated balloon to describe the behavior of the postcapillary venous component of the blood vessels \"feeding\" the neurons to encourage activity. The model postulates a nonlinear dependence of the BOLD signal on blood volume $V$ and deoxyhemoglobin content $q$. It explores the evolution of $V$ and $q$ by two differential equations operating under the assumptions that: \n",
    "\n",
    "- Small post capillary blood vessels releact to an influx of blood like an inflating balloon. So, changes in normalized blood volume $V$ correspond to differences in flow $f_i$ and outflow $f_o$ with some time constant $\\tau$ where $\\tau$ represents the mean transit time for blood to traverse the venous compartment such that $ \\tau = \\frac{V_0}{f_0} = \\frac{\\text{resting blood volume}}{\\text{resting blood flow}}$. Outflow $f_o$ is modelled as a function of volume with parameter $\\alpha$ the resistance of the venous balloon: $f_o = v^{1/\\alpha}$.\n",
    "\n",
    "- Oxygen extraction is highly coupled to blood flow, so it determines the deoxyhemoglobin content $q$. Generally a change in $q$ refers to a delivery of deoxyhemoglobin into the venous compartment minus that expelled at a given time point. So, the oxygen gradient across the capillary wall and oxygen extraction rate depend entirely on oxygen delivery, and as a result, blood flow.\n",
    "\n",
    "These assumptions lead to state equations for $V$ and $q$:\n",
    "\n",
    "$\\tau \\frac{dV}{dt} = f_i(t) - v(t)^{1/\\alpha}$\n",
    "\n",
    "$\\tau \\frac{dq}{dt} = f_i(t) ( \\frac{1 - (1 - E_0)^{1/f_i}}{E_0}) - v(t)^{1/\\alpha}(\\frac{q(t)}{(v(t)}$\n",
    "\n",
    "where $E_0$ is oxygen extraction fraction at rest. "
   ]
  },
  {
   "cell_type": "markdown",
   "id": "f31bb53a-849f-4cc6-935a-c999d974085c",
   "metadata": {},
   "source": [
    "The hemodynamic model also has vascular state equations that address how bloodflow depends on neural activity, connecting to the neural state vector $x$. These vascular responses to neural activity correspond to a damped oscillator: changes in neural activity $x$ elicit exponentially decaying vasodilatory signal $s$ subject to feedback regulation by the flow $f$ which is normalized to resting flow $F_0$ that it induces. This results in two equations:\n",
    "\n",
    "$ \\frac{ds}{dt} = x - \\kappa s - \\gamma(f-1)$\n",
    "\n",
    "$\\frac{df}{dt} = s$ \n",
    "\n",
    "where $x$ is the neural state vector, $\\kappa$ the rate constant of signal decay, and $\\gamma$ the rate constant of feedback regulation. "
   ]
  },
  {
   "cell_type": "markdown",
   "id": "4889ffaf-1427-4c18-98df-1a1099b940d5",
   "metadata": {},
   "source": [
    "Several variants of the BOLD model itself, which unites parameters determined by the prior equations, but all are variations on a general model proposed by Stephen et al. 2007: \n",
    "\n",
    "$ \\frac{\\delta s}{s_0} = v_0 ( k_1(1 - q) + k_2(1 - \\frac{q}{v}) + k_3(1 - v))$ \n",
    "\n",
    "where \n",
    "\n",
    "$k_1 = 4.3 \\upsilon_0 E_0 T E$\n",
    "\n",
    "$k_2 = \\epsilon r_0 E_0 TE$\n",
    "\n",
    "$k_3 = 1 - \\epsilon$\n",
    "\n",
    "and $\\upsilon_0$ is the frequency offset for fully deoxygenated blood ($\\upsilon = 40.3 s^{-1}$ at 1.5 teslas, $\\epsilon$ is the ratio of intra and exogenous signal, TE is the time elapsed between when protons are excited and measured (how long signal creation takes), and $s_0$ is the BOLD signal at rest, described by:\n",
    "\n",
    "$s_0 = (1 - V_0)S_E + V_0S_I$\n",
    "\n",
    "where $V_0$ is the resting venous volume fraction, $S_E$ is the extravenous signal, and $S_I$ the intravascular signal. "
   ]
  },
  {
   "cell_type": "markdown",
   "id": "71ebc615-ca6c-452a-9d60-513b0c6e9b45",
   "metadata": {},
   "source": [
    "For any combination of parameters $\\theta$ and inputs $u$, the measured BOLD response $y$ is modelled as a predicted BOLD signal $h(x, u, \\theta)$ plus a linear combination of confounds $X\\beta$ and Gaussian observation error:\n",
    "\n",
    "$y = h(x, u, \\theta) + X\\beta + \\epsilon$"
   ]
  },
  {
   "cell_type": "markdown",
   "id": "60b1421d-9b29-4894-b63e-685340f15164",
   "metadata": {},
   "source": [
    "### DCM for EEG: Electrophysiological Model"
   ]
  },
  {
   "cell_type": "markdown",
   "id": "646cbbc3-6702-4653-a68d-d17dcfcf9599",
   "metadata": {},
   "source": [
    "The EEG adaption was originally presented in David, Kiebel, et al. 2006. In this adaptation, the neuronal part of DCM is represented by a graph of activity sources where each source is represented with three neuronal subpopulations representing forward, backward, and lateral connections. These populations are connected within themselves and to other populations. The connections between sources are based on the Jansen Model (1995), and subdivided into supragranular layers, infragranular layers, and granular layer 4 based on monkey cortex studies. "
   ]
  },
  {
   "cell_type": "markdown",
   "id": "8119ae98-1254-4ec8-b519-bf5ff9b14654",
   "metadata": {},
   "source": [
    "The three classes of connections used are classified as:\n",
    "\n",
    "- bottom up or froward connections originating in agranular layers and terminating in layer #4\n",
    "- top down or backward connections connecting agranular layers\n",
    "- lateral connections starting in agranular layers and targeting all layers\n",
    "\n",
    "All connections are excitatory and assumed to occur between pyramidal cells."
   ]
  },
  {
   "cell_type": "markdown",
   "id": "e61e9cec-f452-4d8b-a2ca-23c38b2d3829",
   "metadata": {},
   "source": [
    "#### Jansen Model "
   ]
  },
  {
   "cell_type": "markdown",
   "id": "c1ee62a2-4ad6-4504-bafb-5454c5ac7c33",
   "metadata": {},
   "source": [
    "In this model, excitatory pyramidal cells receive input from inhibitory and excitatory populations of interneurons via interal connections confined to the cortical sheet. Excitatory interneuorns are assumed to be spiny stellate cells primarily found in layer 4, receiving forward connections. Excitatory pyramidal cells and inhbiitory interneurons occupy agranular layers and receive backward and lateral inputs. "
   ]
  },
  {
   "cell_type": "markdown",
   "id": "03128cec-d457-4c90-b9d4-50e321f67672",
   "metadata": {},
   "source": [
    "Similar to the fMRI structure, the model is composed of two main equations:\n",
    "\n",
    "$ \\frac{dx}{dt} = f(x, u, \\theta)$ \n",
    "\n",
    "$ h = g(x, \\theta)$\n",
    "\n",
    "where $\\theta$ are unknown quantities that parametrize the state and observer equations, $x$ represents cortical neural states, and $u$ represents exogenous inputs, experimentally produced differences in activity above baseline. \n",
    "\n",
    "The state equations $\\frac{dx}{dt} = f(x, u, \\theta) $ for the neuronal states of the multiple areas used are:\n",
    "\n",
    "$\\frac{dx_0}{dt} = x_5 - x_6$\n",
    "\n",
    "$\\frac{dx_1}{dt} = x_4$\n",
    "\n",
    "$\\frac{dx_2}{dt} = x_5$\n",
    "\n",
    "$\\frac{dx_3}{dt} = x_6$\n",
    "\n",
    "$\\frac{dx_4}{dt} = \\frac{H_e}{\\tau_e} ((C^F + C^L + \\gamma_1I) S(x_0) + C^Uu) - \\frac{2x_4}{\\tau_e} - \\frac{x_1}{\\tau_e^2}$\n",
    "\n",
    "$\\frac{dx_5}{dt} = \\frac{H_e}{\\tau_e} ((C^B + C^L) S(x_0) + \\gamma_2S(x_1)) \\frac{2x_5}{\\tau_e} - \\frac{x_2}{\\tau_e^2}$\n",
    "\n",
    "$\\frac{dx_6}{dt} = \\frac{H_i}{\\tau_i} \\gamma_4 S(x_7) - \\frac{2x_6}{\\tau_i} - \\frac{x_3}{\\tau_i^2}$\n",
    "\n",
    "$\\frac{dx_7}{dt} = x_8$\n",
    "\n",
    "$\\frac{dx_8}{dt} = \\frac{H_e}{\\tau_e} ((C^B + C^L + \\gamma_3I) S(x_0)) - \\frac{2x_8}{\\tau_e} - \\frac{x_7}{\\tau_e}$\n",
    "\n",
    "\n",
    "where $x_j = [x_j^{(1)} ...]^T$, \n",
    "\n",
    "$x_0^{(i)}, ..., x_8^{(i)}$ is the mean transmembrane potentials and currents of the 3 subpopulations from the ith source,\n",
    "\n",
    "$C_F$ is the forward extrinsic connections, \n",
    "\n",
    "$C_B$ the backwards intrinsic connetions, \n",
    "\n",
    "$C_L$ the lateral extrinsic connections,\n",
    "\n",
    "and $\\gamma_{1,2,3,4}$ the constants that determine the strength of intrinsic connections and reflect the number of synapses expressed by each subpopulation. "
   ]
  },
  {
   "cell_type": "markdown",
   "id": "a453b17d-8874-4164-8089-91a42bf45e43",
   "metadata": {},
   "source": [
    "The other variables come from two operators that determine the dynamics of the system. "
   ]
  },
  {
   "cell_type": "markdown",
   "id": "29ba75da-e92c-4be5-a27f-cef1d58a709f",
   "metadata": {},
   "source": [
    "## (2) Variational Laplace / Optimization"
   ]
  },
  {
   "cell_type": "markdown",
   "id": "b617ee62-c218-44fa-ac4d-ab1af8d71410",
   "metadata": {},
   "source": [
    "To review, DCMs generally involve two main equations: \n",
    "\n",
    "$ \\frac{dx}{dt} = J(t) x(t) + C u_{i}(t) $,\n",
    "\n",
    "with $J(t)$ the time-varying connectivity matrix and $u_i(t)$ the vector of external driving inputs and \n",
    "\n",
    "$ y - g(x, \\theta_n) + \\epsilon_y$ ,\n",
    "\n",
    "an observation model that translates $x$ into fMRI (or EEG) activity, $y$. "
   ]
  },
  {
   "cell_type": "markdown",
   "id": "5c63d623-3d31-4b6c-b660-1e2688761621",
   "metadata": {},
   "source": [
    "Our goal in defining these equations and possible network connectivities is to first optimize connectivity parameters for each of the suggested models, then decide which possible optimized model structure is the best candidate for that of our experimental data. This section describes how to optimize connectivity parameters in each candidate model structure using a form of maximum likelihood optimization known as Variational Laplace. "
   ]
  },
  {
   "cell_type": "markdown",
   "id": "0cbf40fd-3554-4e07-bdb5-ac87ba8f2a99",
   "metadata": {},
   "source": [
    "### Setting Up for Variational Laplace "
   ]
  },
  {
   "cell_type": "markdown",
   "id": "5ab74a89-c64b-4497-80bc-2eb43b2dacf7",
   "metadata": {},
   "source": [
    "Here we will briefly describe how to set up for the variational laplace technique. For a more indepth review, see Friston, et al. 2002 and xxx. \n",
    "\n",
    "We begin by defining:\n",
    "\n",
    "$P(\\theta)$: the prior, our belief of model parameters before \"seeing\" the data\n",
    "\n",
    "$P( y | \\theta)$: the likelihood, the likelihood of observing data $y$ given parameters $\\theta$.\n",
    "\n",
    "The likelihood and prior are related by Bayes' rule: \n",
    "\n",
    "$ P(y) = \\int p(y, \\theta) d \\theta = \\int p(y | \\theta) p(\\theta) d\\theta $\n",
    "\n",
    "This equation seems to provide a direct way for us to calculate $p(y)$, which is the probability of the data we have using an optimized model structure. Unfortunately this equation cannot be solved diretly, so we rely on variational Bayes methods to create an optimzed lower bound on the probability $p(y)$ so we know at least how well a given model can be performed. \n",
    "\n",
    "Using Bayesian inference to update the probability density over parameters after seeing the data allows us to obtain $p(y)$. The Variational Laplace technique involves utilizing \"free energy\" as an approximation to the marginal likelihood, which provides a means of scoring the models. \n",
    "\n",
    "To construct a lower bound on $p(\\theta | y)$, we introduce a probability density $Q(\\theta)$ which represents an approximation on the posterior over the parameters to yield:\n",
    "\n",
    "$ \\ln p(y) = \\ln E_{Q(\\theta)} \\int \\frac{P(y, \\theta)}{Q(\\theta)} d\\theta$\n",
    "\n",
    "We then define free energy $F(Q(\\theta)) = E_{Q(\\theta)} [ \\ln \\frac{p(y, \\theta)}{Q(\\theta)}]$, which using Jensen's inequality (the average of a log is $\\leq$ the log of an averge) yields: \n",
    "\n",
    "$F[Q(\\theta)] \\leq \\ln p(y) $\n",
    "\n",
    "This implies that free energy provides a lower bound on the natural logarithm of $p(y)$. "
   ]
  },
  {
   "cell_type": "markdown",
   "id": "19cba03a-b56c-44a0-ad0f-805be061d81d",
   "metadata": {},
   "source": [
    "It can be demonstrated that \n",
    "\n",
    "$F[Q(\\theta)] = E_{Q(\\theta)} [ \\ln P(y, \\theta) - \\ln Q(\\theta)]$. \n",
    "\n",
    "To optimize parameters that comprise the free energy $\\theta$, we develop expressions for $\\ln p(y, \\theta)$ and $Q(\\theta)$ to yield: \n",
    "\n",
    "$ F[Q(\\theta)] =  \\ln p(y, \\mu) - \\frac{n}{2} + \\frac{1}{2} [\\ln(|\\Sigma|) + n \\ln 2\\pi e]$ \n",
    "\n",
    "where $\\mu = \\text{argmax}_\\theta p(y, \\theta) = \\text{argmax}_\\theta p(\\theta | y)$,\n",
    "\n",
    "$n$ is the total number of parameters, and\n",
    "\n",
    "$\\Sigma$ the posterior covariance."
   ]
  },
  {
   "cell_type": "markdown",
   "id": "63304200-b99e-4079-9996-1583a8a5037a",
   "metadata": {},
   "source": [
    "An alternative formulation of the free energy involves separating the models parameters $\\beta$ and hyperparameters $\\lambda$ that control observation noise. This alternative uses a mean field approximation to separate $\\theta$  into $\\beta$ and $\\lambda$. "
   ]
  },
  {
   "cell_type": "markdown",
   "id": "11534415-1c59-483b-b9df-ae673610d528",
   "metadata": {},
   "source": [
    "### Maximizing Free Energy $ F[ Q(\\theta)] $\n",
    "\n"
   ]
  },
  {
   "cell_type": "markdown",
   "id": "4a52bad0-ed52-4848-a01a-499dc79404ec",
   "metadata": {},
   "source": [
    "The variational laplace technique involves continuously transitioning between Gradient Ascent and Gauss Newton optimization, enabling faster more accurate convergence to the optimal model parameters. The switching continues until the changein free energy between iterations is sufficiently small to be considered to have converged. \n",
    "\n"
   ]
  },
  {
   "cell_type": "markdown",
   "id": "a5a9afcb-b107-4ead-84a9-91a73e768b28",
   "metadata": {},
   "source": [
    "## Model Selection and Comparison "
   ]
  },
  {
   "cell_type": "markdown",
   "id": "b03353b6-2dd0-48ba-b80f-e2b78d1e06a7",
   "metadata": {},
   "source": [
    "Several approaches to model selection and comparison exist. Two of the most common approaches for DCM fMRI model selection are Bayesian Model Selection (BMS) and Parametric Empirical Bayes (PEB). "
   ]
  },
  {
   "cell_type": "markdown",
   "id": "2f65e406-9774-4ea3-bd4a-7c8548276972",
   "metadata": {},
   "source": [
    "### Bayesian Model Selection (BMS)"
   ]
  },
  {
   "cell_type": "markdown",
   "id": "31dbf469-a658-484a-adac-e24393372585",
   "metadata": {},
   "source": [
    "This technique involves computation of the Bayes factor:\n",
    "\n",
    "$ B_{ij} = \\frac{p(Y | m = i)}{p(Y | m = j)} \\approx \\frac{F[\\theta_i]}{F[\\theta_i]}$\n",
    "\n",
    "This compares the approximate posteriors of models i and j with a free energy approximation. \n",
    "\n",
    "The log Bayes factor is approximately the difference of model free energies: $ log( B_{ij}) \\approx F_i - F_j$. \n",
    "\n",
    "It can be interpreted as evidence for a model or hypothesis. If there is not strong evidence for one model over the other by comparing Bayes factors, Bayesian Model Averaging can be used to determine the ideal model parameters by computing the weighted average of candidate model parameters based on each's prior probability. "
   ]
  },
  {
   "cell_type": "markdown",
   "id": "d1a056c1-c68d-4420-a0c4-10138a85ba5b",
   "metadata": {},
   "source": [
    "### Parametric Empirical Bayes (PEB)"
   ]
  },
  {
   "cell_type": "markdown",
   "id": "8c44f9a6-9b74-4a61-839b-eedec5197f0f",
   "metadata": {},
   "source": [
    "The PEB approach enables the evaluation of group and within-subject variability on model parameters. \n",
    "\n",
    "Here, a single DCM is developed for each participant with all parameters of interest kept \"on\" and all parameters optimized using the methods outlined above. Then create a group level generalized linear model (GLM) over all parameters - this is the PEB model. \n",
    "\n",
    "This model can be used to test covariates and between subject effects. Hypotheses regarding model connectivity can be tested by comparing the \"full\" PEB with alternate PEBs with certain parameters switched off. The best model can be determined via comparison with variational laplace or if no model is a clear winner, Bayesian Model Averaging can be used. "
   ]
  },
  {
   "cell_type": "markdown",
   "id": "868cfa9e-acdb-4def-89dc-56dff842c199",
   "metadata": {},
   "source": [
    "# Sample Code and Model Example\n",
    "\n",
    "A MATLAB GUI implementation with a sample usage can be found [here](https://github.com/pzeidman/dcm-peb-example). This program is accompanied by two papers: [part 1](https://www.sciencedirect.com/science/article/pii/S1053811919305221) and [part 2](https://www.sciencedirect.com/science/article/pii/S1053811919305233) describing how DCM is used for fMRI. \n",
    "\n",
    "These papers describe a simple implementation of DCM for a fMRI neuroimaging study. DESCRIBE THE STUDY. A simple implementation, includng the development of a DCM model for a single participant's fMRI data from this study is shown below as an example implementation of DCM. "
   ]
  },
  {
   "cell_type": "markdown",
   "id": "c4876f95-4cb2-4361-9ca0-00891796da20",
   "metadata": {},
   "source": [
    "Here, we use preprocessed data from subject 1 in the tutorial paper linked above to illustrate the functionality of the DCM model.\n",
    "\n",
    "First, we determine the connectivity matrices for each participant, corresponding to which regions are turned off and turned on. "
   ]
  },
  {
   "cell_type": "code",
   "execution_count": 3,
   "id": "032e2f0c-f0f9-49d2-bf26-d36fa60dc598",
   "metadata": {},
   "outputs": [],
   "source": [
    "import numpy as np\n",
    "from scipy.integrate import solve_ivp\n",
    "import matplotlib.pyplot as plt"
   ]
  },
  {
   "cell_type": "code",
   "execution_count": 5,
   "id": "ea50d2e4-6268-410f-b70c-ab0455fb5630",
   "metadata": {},
   "outputs": [],
   "source": [
    "# MRI settings\n",
    "TR = 3.6    # Repetition time (secs)\n",
    "TE = 0.05   # Echo Time (secs)\n",
    "\n",
    "# Experiment settings\n",
    "nsubjects = 60\n",
    "nregions = 4\n",
    "nconditions = 3\n",
    "\n",
    "# Index of conditions in the DCM, for code readability\n",
    "TASK = 1\n",
    "PICTURES = 2\n",
    "WORDS = 3\n",
    "\n",
    "# Index of DCM regions, for code readability\n",
    "lvF = 1\n",
    "ldF = 2\n",
    "rvF = 3\n",
    "rdF = 4"
   ]
  },
  {
   "cell_type": "code",
   "execution_count": 7,
   "id": "a0631271-fa7d-4b25-997c-7e1c96a32841",
   "metadata": {},
   "outputs": [],
   "source": [
    "# Determine connectivity via matrices A - C. \n",
    "# Columns are outgoing connections and rows incoming connections.\n",
    "# Priors can be changed in these matrices...\n",
    "\n",
    "# (A) represents the average connectivity across experimental conditions and matrix (a) is\n",
    "# an indicator matrix for which of these connections we want switched on. \n",
    "A = np.array([[1, 1, 1, 0],\n",
    "              [1, 1, 0, 1],\n",
    "              [1, 0, 1, 1],\n",
    "              [0, 1, 1, 1]]) # prior\n",
    "\n",
    "# (B) represents which connections are modulated by experimental conditions. Each of the \n",
    "# square matrices refers to task, pictures, and words respectively. The task doesn't modulate\n",
    "# any connections here, but pictures and word modulate the self connection between all regions. \n",
    "B = np.array([[[0, 0, 0, 0],\n",
    "               [0, 0, 0, 0],\n",
    "               [0, 0, 0, 0],\n",
    "               [0, 0, 0, 0]],\n",
    "              \n",
    "             [[1, 0, 0, 0],\n",
    "              [0, 1, 0, 0],\n",
    "              [0, 0, 1, 0],\n",
    "              [0, 0, 0, 1]],\n",
    "              \n",
    "             [[1, 0, 0, 0],\n",
    "              [0, 1, 0, 0],\n",
    "              [0, 0, 1, 0],\n",
    "              [0, 0, 0, 1]]]) # prior\n",
    "\n",
    "# (C) indicates which regions are driven by each experimental condition. Columns are the \n",
    "# conditions and rows the brain regions. So, all four regions are driven by task but pictures\n",
    "# and words are just modulatory inputs. \n",
    "C = np.array([[1, 0, 0],\n",
    "              [1, 0, 0], \n",
    "              [1, 0, 0],\n",
    "              [1, 0, 0]]) # prior"
   ]
  },
  {
   "cell_type": "markdown",
   "id": "a8f8990d-6fe1-40f2-8df7-a0698dc34273",
   "metadata": {},
   "source": [
    "Now we specify the DCM for participant 1. \n",
    "\n",
    "First, we extract the \"u\" factors for each causal and mediating variable, as predetermined in the experiment MATLAB code. We will need these to estimate the state vector. Each entry in these \"u\" vectors corresponds to one timepoint."
   ]
  },
  {
   "cell_type": "code",
   "execution_count": 10,
   "id": "2978e37d-1ad8-48fb-ac0d-3b41ed363ef4",
   "metadata": {},
   "outputs": [],
   "source": [
    "u_task_path = 'u_task.csv'\n",
    "u_task = np.genfromtxt(u_task_path, delimiter=',')\n",
    "\n",
    "u_pics_path = 'u_pictures.csv'\n",
    "u_pictures = np.genfromtxt(u_pics_path, delimiter=',')\n",
    "\n",
    "u_words_path = 'u_words.csv'\n",
    "u_words = np.genfromtxt(u_words_path, delimiter=',')"
   ]
  },
  {
   "cell_type": "markdown",
   "id": "bc03ddc6-de3a-41c5-8a84-6fb50169e15d",
   "metadata": {},
   "source": [
    "We will now compute the neural state vector for each of the 3200 timepoints, 3.6 seconds apart. For our neural model, we will use the simple implementation in (2) in part 1 of the tutorial papers. First, we will need to compute the connectivity matrix $J$, then we can use the given differential equation for $z$ to compute the neural state vector $z$. The equations are below for reference. \n",
    "\n",
    "ADD EQUATIONS\n",
    "\n",
    "These will be computed together for each time point using the priors for each of the vectors. "
   ]
  },
  {
   "cell_type": "code",
   "execution_count": 13,
   "id": "205e8a09-9212-463f-8c92-d487d9f5ed79",
   "metadata": {},
   "outputs": [
    {
     "name": "stdout",
     "output_type": "stream",
     "text": [
      "state [[ 0.          0.          0.          0.        ]\n",
      " [ 0.          0.          0.          0.        ]\n",
      " [ 0.          0.          0.          0.        ]\n",
      " ...\n",
      " [-1.79720564 -1.79720564 -1.79720564 -1.79720564]\n",
      " [-1.79720564 -1.79720564 -1.79720564 -1.79720564]\n",
      " [-1.79720564 -1.79720564 -1.79720564 -1.79720564]]\n"
     ]
    }
   ],
   "source": [
    "# state vec is a 3200 x 4 array\n",
    "state_vec = np.empty((3200, 4))\n",
    "\n",
    "for index in range(3200):\n",
    "    t = index * 3.6\n",
    "\n",
    "    # Define ODE\n",
    "    def neural_state_ode(t, y, index): \n",
    "        J = A + B[1, :, :] * u_pictures[index] +  B[2, :, :] * u_words[index]\n",
    "        dydt = np.matmul(J, np.array(y).T) + np.matmul(C, np.array([[u_task[index]], [u_pictures[index]], [u_words[index]]])).T\n",
    "        return dydt[0, :]\n",
    "        \n",
    "    # Initial condition\n",
    "    y0 = [0, 0, 0, 0]  \n",
    "    \n",
    "    # Solve ODE\n",
    "    z = solve_ivp(neural_state_ode, (t-1, t), y0, args=(index,))\n",
    "    \n",
    "    # Add to state vec\n",
    "    state_vec[index, :] = z.y[:, -1]\n",
    "\n",
    "print(\"state\", state_vec)"
   ]
  },
  {
   "cell_type": "markdown",
   "id": "69d642bf-bdaf-49d9-828d-61f984213572",
   "metadata": {},
   "source": [
    "Now we use the hemodynamic equations to convert this estimated neural state vector into a BOLD fMRI signal. We start with the vasodilatory signal and flow equations, which are co-dependent. \n",
    "\n",
    "ADD EQUATIONS!!"
   ]
  },
  {
   "cell_type": "code",
   "execution_count": 16,
   "id": "d4101a70-86b9-4317-b55c-71cb45d58ada",
   "metadata": {},
   "outputs": [
    {
     "name": "stderr",
     "output_type": "stream",
     "text": [
      "/opt/anaconda3/lib/python3.12/site-packages/scipy/integrate/_ivp/common.py:108: RuntimeWarning: overflow encountered in divide\n",
      "  d1 = norm(f0 / scale)\n",
      "/var/folders/1c/my2535l97nv5xg5kfyw1f6680000gn/T/ipykernel_1456/2553106727.py:8: RuntimeWarning: invalid value encountered in multiply\n",
      "  dsdt = x - kappa * s - gamma * (f - np.ones(4))\n"
     ]
    },
    {
     "name": "stdout",
     "output_type": "stream",
     "text": [
      "[[ 6.00000000e+00  6.00000000e+00  6.00000000e+00  6.00000000e+00]\n",
      " [ 6.00000000e+00  6.00000000e+00  6.00000000e+00  6.00000000e+00]\n",
      " [-3.00000000e+01 -3.00000000e+01 -3.00000000e+01 -3.00000000e+01]\n",
      " ...\n",
      " [ 2.21221006e+22  2.21221006e+22  2.21221006e+22  2.21221006e+22]\n",
      " [-1.32732603e+23 -1.32732603e+23 -1.32732603e+23 -1.32732603e+23]\n",
      " [ 7.96395620e+23  7.96395620e+23  7.96395620e+23  7.96395620e+23]]\n",
      "[[ 0.00000000e+00  0.00000000e+00  0.00000000e+00  0.00000000e+00]\n",
      " [ 6.00000000e+00  6.00000000e+00  6.00000000e+00  6.00000000e+00]\n",
      " [-3.00000000e+01 -3.00000000e+01 -3.00000000e+01 -3.00000000e+01]\n",
      " ...\n",
      " [ 2.21221006e+22  2.21221006e+22  2.21221006e+22  2.21221006e+22]\n",
      " [-1.32732603e+23 -1.32732603e+23 -1.32732603e+23 -1.32732603e+23]\n",
      " [ 7.96395620e+23  7.96395620e+23  7.96395620e+23  7.96395620e+23]]\n"
     ]
    }
   ],
   "source": [
    "kappa = 0 # Rate of vasodilatory signal decay (prior)\n",
    "gamma = 6 # Rate of decay to feedback to vasodilatory signal (prior)\n",
    "\n",
    "vasodilatory_vec = np.empty((3200, 4))\n",
    "flow_vec = np.empty((3200, 4))\n",
    "\n",
    "def vasodilatory_ode(t, s, x, f, kappa, gamma):\n",
    "    dsdt = x - kappa * s - gamma * (f - np.ones(4))\n",
    "    return dsdt\n",
    "\n",
    "def flow_ode(t, f, s):\n",
    "    dfdt = s\n",
    "    return dfdt\n",
    "\n",
    "f = [0, 0, 0, 0]\n",
    "s = [0, 0, 0, 0]\n",
    "\n",
    "for index in range(3200):\n",
    "    t = index * 3.6\n",
    "    \n",
    "    # Iteratively determine s and f, starting with s\n",
    "    s0 = [0, 0, 0, 0]\n",
    "    f0 = [0, 0, 0, 0]\n",
    "\n",
    "    # Solve ODE\n",
    "    if index == 0:\n",
    "        s = solve_ivp(vasodilatory_ode, (t-1, t), s0, args=(state_vec[index, :], f0, kappa, gamma))\n",
    "        f = solve_ivp(flow_ode, (t-1, t), f0, args=(s0,))\n",
    "    else:\n",
    "        s = solve_ivp(vasodilatory_ode, (t-1, t), s0, args=(state_vec[index, :], f.y[:, -1], kappa, gamma))\n",
    "        f = solve_ivp(flow_ode, (t-1, t), f0, args=(s.y[:, -1],))\n",
    "    \n",
    "    # Add to vecs...\n",
    "    vasodilatory_vec[index, :] = s.y[:, -1]\n",
    "    flow_vec[index, :] = f.y[:, -1]\n",
    "\n",
    "print(vasodilatory_vec)\n",
    "print(flow_vec)"
   ]
  },
  {
   "cell_type": "markdown",
   "id": "d1a50743-482b-43f1-9463-763980b52a8f",
   "metadata": {},
   "source": [
    "Then we use the flow vector and neural state vectors to compute the change in volume and deoxyhemoglobin associated with the balloon hemodynamic model. First, the volume change ODE."
   ]
  },
  {
   "cell_type": "code",
   "execution_count": 19,
   "id": "192133e8-f722-4dbf-8959-b47e42b85b26",
   "metadata": {},
   "outputs": [
    {
     "name": "stdout",
     "output_type": "stream",
     "text": [
      "0 out of 3200\n",
      "1 out of 3200\n",
      "2 out of 3200\n",
      "3 out of 3200\n",
      "4 out of 3200\n",
      "5 out of 3200\n",
      "6 out of 3200\n",
      "7 out of 3200\n",
      "8 out of 3200\n",
      "9 out of 3200\n"
     ]
    },
    {
     "name": "stderr",
     "output_type": "stream",
     "text": [
      "/var/folders/1c/my2535l97nv5xg5kfyw1f6680000gn/T/ipykernel_1456/3423001994.py:8: RuntimeWarning: invalid value encountered in power\n",
      "  dvdt = (1/tau) * (f - np.power(v,1/alpha))\n"
     ]
    },
    {
     "name": "stdout",
     "output_type": "stream",
     "text": [
      "10 out of 3200\n",
      "11 out of 3200\n",
      "12 out of 3200\n",
      "13 out of 3200\n"
     ]
    },
    {
     "ename": "KeyboardInterrupt",
     "evalue": "",
     "output_type": "error",
     "traceback": [
      "\u001b[0;31m---------------------------------------------------------------------------\u001b[0m",
      "\u001b[0;31mKeyboardInterrupt\u001b[0m                         Traceback (most recent call last)",
      "Cell \u001b[0;32mIn[19], line 17\u001b[0m\n\u001b[1;32m     14\u001b[0m     t \u001b[38;5;241m=\u001b[39m index \u001b[38;5;241m*\u001b[39m \u001b[38;5;241m3.6\u001b[39m\n\u001b[1;32m     16\u001b[0m     \u001b[38;5;66;03m# Solve ODE\u001b[39;00m\n\u001b[0;32m---> 17\u001b[0m     v \u001b[38;5;241m=\u001b[39m solve_ivp(volume_ode, (t\u001b[38;5;241m-\u001b[39m\u001b[38;5;241m1\u001b[39m, t), v0, args\u001b[38;5;241m=\u001b[39m(flow_vec[index,:], alpha, tau))\n\u001b[1;32m     19\u001b[0m     volume_vec[index, :] \u001b[38;5;241m=\u001b[39m v\u001b[38;5;241m.\u001b[39my[:, \u001b[38;5;241m-\u001b[39m\u001b[38;5;241m1\u001b[39m]\n\u001b[1;32m     21\u001b[0m \u001b[38;5;28mprint\u001b[39m(volume_vec)\n",
      "File \u001b[0;32m/opt/anaconda3/lib/python3.12/site-packages/scipy/integrate/_ivp/ivp.py:655\u001b[0m, in \u001b[0;36msolve_ivp\u001b[0;34m(fun, t_span, y0, method, t_eval, dense_output, events, vectorized, args, **options)\u001b[0m\n\u001b[1;32m    653\u001b[0m status \u001b[38;5;241m=\u001b[39m \u001b[38;5;28;01mNone\u001b[39;00m\n\u001b[1;32m    654\u001b[0m \u001b[38;5;28;01mwhile\u001b[39;00m status \u001b[38;5;129;01mis\u001b[39;00m \u001b[38;5;28;01mNone\u001b[39;00m:\n\u001b[0;32m--> 655\u001b[0m     message \u001b[38;5;241m=\u001b[39m solver\u001b[38;5;241m.\u001b[39mstep()\n\u001b[1;32m    657\u001b[0m     \u001b[38;5;28;01mif\u001b[39;00m solver\u001b[38;5;241m.\u001b[39mstatus \u001b[38;5;241m==\u001b[39m \u001b[38;5;124m'\u001b[39m\u001b[38;5;124mfinished\u001b[39m\u001b[38;5;124m'\u001b[39m:\n\u001b[1;32m    658\u001b[0m         status \u001b[38;5;241m=\u001b[39m \u001b[38;5;241m0\u001b[39m\n",
      "File \u001b[0;32m/opt/anaconda3/lib/python3.12/site-packages/scipy/integrate/_ivp/base.py:197\u001b[0m, in \u001b[0;36mOdeSolver.step\u001b[0;34m(self)\u001b[0m\n\u001b[1;32m    195\u001b[0m \u001b[38;5;28;01melse\u001b[39;00m:\n\u001b[1;32m    196\u001b[0m     t \u001b[38;5;241m=\u001b[39m \u001b[38;5;28mself\u001b[39m\u001b[38;5;241m.\u001b[39mt\n\u001b[0;32m--> 197\u001b[0m     success, message \u001b[38;5;241m=\u001b[39m \u001b[38;5;28mself\u001b[39m\u001b[38;5;241m.\u001b[39m_step_impl()\n\u001b[1;32m    199\u001b[0m     \u001b[38;5;28;01mif\u001b[39;00m \u001b[38;5;129;01mnot\u001b[39;00m success:\n\u001b[1;32m    200\u001b[0m         \u001b[38;5;28mself\u001b[39m\u001b[38;5;241m.\u001b[39mstatus \u001b[38;5;241m=\u001b[39m \u001b[38;5;124m'\u001b[39m\u001b[38;5;124mfailed\u001b[39m\u001b[38;5;124m'\u001b[39m\n",
      "File \u001b[0;32m/opt/anaconda3/lib/python3.12/site-packages/scipy/integrate/_ivp/rk.py:153\u001b[0m, in \u001b[0;36mRungeKutta._step_impl\u001b[0;34m(self)\u001b[0m\n\u001b[1;32m    151\u001b[0m     factor \u001b[38;5;241m=\u001b[39m MAX_FACTOR\n\u001b[1;32m    152\u001b[0m \u001b[38;5;28;01melse\u001b[39;00m:\n\u001b[0;32m--> 153\u001b[0m     factor \u001b[38;5;241m=\u001b[39m \u001b[38;5;28mmin\u001b[39m(MAX_FACTOR,\n\u001b[1;32m    154\u001b[0m                  SAFETY \u001b[38;5;241m*\u001b[39m error_norm \u001b[38;5;241m*\u001b[39m\u001b[38;5;241m*\u001b[39m \u001b[38;5;28mself\u001b[39m\u001b[38;5;241m.\u001b[39merror_exponent)\n\u001b[1;32m    156\u001b[0m \u001b[38;5;28;01mif\u001b[39;00m step_rejected:\n\u001b[1;32m    157\u001b[0m     factor \u001b[38;5;241m=\u001b[39m \u001b[38;5;28mmin\u001b[39m(\u001b[38;5;241m1\u001b[39m, factor)\n",
      "\u001b[0;31mKeyboardInterrupt\u001b[0m: "
     ]
    }
   ],
   "source": [
    "tau = 2      # hemodynamic transit time (seconds, static)\n",
    "alpha = 0.32 # Grubb's exponent (blood vessel stiffness, static)\n",
    "\n",
    "volume_vec = np.empty((3200, 4))\n",
    "\n",
    "# Runtime issue here...\n",
    "def volume_ode(t, v, f, alpha, tau):\n",
    "    dvdt = (1/tau) * (f - np.power(v,1/alpha))\n",
    "    return dvdt\n",
    "\n",
    "v0 = [0, 0, 0, 0]\n",
    "for index in range(3200):\n",
    "    print(index, \"out of 3200\")\n",
    "    t = index * 3.6\n",
    "\n",
    "    # Solve ODE\n",
    "    v = solve_ivp(volume_ode, (t-1, t), v0, args=(flow_vec[index,:], alpha, tau))\n",
    "\n",
    "    volume_vec[index, :] = v.y[:, -1]\n",
    "\n",
    "print(volume_vec)"
   ]
  },
  {
   "cell_type": "markdown",
   "id": "bd2a6a4b-9f4e-4f5c-94f2-92563c068e1e",
   "metadata": {},
   "source": [
    "Then the deoxyhemoglobin change ODE. "
   ]
  },
  {
   "cell_type": "code",
   "execution_count": 21,
   "id": "3e4ca913-f06c-4bc2-a42d-36ff1d412b7e",
   "metadata": {},
   "outputs": [
    {
     "ename": "ValueError",
     "evalue": "Denominator in the ODE is zero",
     "output_type": "error",
     "traceback": [
      "\u001b[0;31m---------------------------------------------------------------------------\u001b[0m",
      "\u001b[0;31mValueError\u001b[0m                                Traceback (most recent call last)",
      "Cell \u001b[0;32mIn[21], line 18\u001b[0m\n\u001b[1;32m     15\u001b[0m         t \u001b[38;5;241m=\u001b[39m index \u001b[38;5;241m*\u001b[39m \u001b[38;5;241m3.6\u001b[39m\n\u001b[1;32m     17\u001b[0m         \u001b[38;5;66;03m# Solve ODE\u001b[39;00m\n\u001b[0;32m---> 18\u001b[0m         q \u001b[38;5;241m=\u001b[39m solve_ivp(dHb_ode, (t\u001b[38;5;241m-\u001b[39m\u001b[38;5;241m1\u001b[39m, t), q0, args\u001b[38;5;241m=\u001b[39m(volume_vec[index, region], flow_vec[index, region], E0, alpha, tau))\n\u001b[1;32m     20\u001b[0m         dHb_vec[index, region] \u001b[38;5;241m=\u001b[39m q\u001b[38;5;241m.\u001b[39my[:, \u001b[38;5;241m-\u001b[39m\u001b[38;5;241m1\u001b[39m]\n\u001b[1;32m     22\u001b[0m \u001b[38;5;28mprint\u001b[39m(dHb_vec)\n",
      "File \u001b[0;32m/opt/anaconda3/lib/python3.12/site-packages/scipy/integrate/_ivp/ivp.py:621\u001b[0m, in \u001b[0;36msolve_ivp\u001b[0;34m(fun, t_span, y0, method, t_eval, dense_output, events, vectorized, args, **options)\u001b[0m\n\u001b[1;32m    618\u001b[0m \u001b[38;5;28;01mif\u001b[39;00m method \u001b[38;5;129;01min\u001b[39;00m METHODS:\n\u001b[1;32m    619\u001b[0m     method \u001b[38;5;241m=\u001b[39m METHODS[method]\n\u001b[0;32m--> 621\u001b[0m solver \u001b[38;5;241m=\u001b[39m method(fun, t0, y0, tf, vectorized\u001b[38;5;241m=\u001b[39mvectorized, \u001b[38;5;241m*\u001b[39m\u001b[38;5;241m*\u001b[39moptions)\n\u001b[1;32m    623\u001b[0m \u001b[38;5;28;01mif\u001b[39;00m t_eval \u001b[38;5;129;01mis\u001b[39;00m \u001b[38;5;28;01mNone\u001b[39;00m:\n\u001b[1;32m    624\u001b[0m     ts \u001b[38;5;241m=\u001b[39m [t0]\n",
      "File \u001b[0;32m/opt/anaconda3/lib/python3.12/site-packages/scipy/integrate/_ivp/rk.py:94\u001b[0m, in \u001b[0;36mRungeKutta.__init__\u001b[0;34m(self, fun, t0, y0, t_bound, max_step, rtol, atol, vectorized, first_step, **extraneous)\u001b[0m\n\u001b[1;32m     92\u001b[0m \u001b[38;5;28mself\u001b[39m\u001b[38;5;241m.\u001b[39mmax_step \u001b[38;5;241m=\u001b[39m validate_max_step(max_step)\n\u001b[1;32m     93\u001b[0m \u001b[38;5;28mself\u001b[39m\u001b[38;5;241m.\u001b[39mrtol, \u001b[38;5;28mself\u001b[39m\u001b[38;5;241m.\u001b[39matol \u001b[38;5;241m=\u001b[39m validate_tol(rtol, atol, \u001b[38;5;28mself\u001b[39m\u001b[38;5;241m.\u001b[39mn)\n\u001b[0;32m---> 94\u001b[0m \u001b[38;5;28mself\u001b[39m\u001b[38;5;241m.\u001b[39mf \u001b[38;5;241m=\u001b[39m \u001b[38;5;28mself\u001b[39m\u001b[38;5;241m.\u001b[39mfun(\u001b[38;5;28mself\u001b[39m\u001b[38;5;241m.\u001b[39mt, \u001b[38;5;28mself\u001b[39m\u001b[38;5;241m.\u001b[39my)\n\u001b[1;32m     95\u001b[0m \u001b[38;5;28;01mif\u001b[39;00m first_step \u001b[38;5;129;01mis\u001b[39;00m \u001b[38;5;28;01mNone\u001b[39;00m:\n\u001b[1;32m     96\u001b[0m     \u001b[38;5;28mself\u001b[39m\u001b[38;5;241m.\u001b[39mh_abs \u001b[38;5;241m=\u001b[39m select_initial_step(\n\u001b[1;32m     97\u001b[0m         \u001b[38;5;28mself\u001b[39m\u001b[38;5;241m.\u001b[39mfun, \u001b[38;5;28mself\u001b[39m\u001b[38;5;241m.\u001b[39mt, \u001b[38;5;28mself\u001b[39m\u001b[38;5;241m.\u001b[39my, \u001b[38;5;28mself\u001b[39m\u001b[38;5;241m.\u001b[39mf, \u001b[38;5;28mself\u001b[39m\u001b[38;5;241m.\u001b[39mdirection,\n\u001b[1;32m     98\u001b[0m         \u001b[38;5;28mself\u001b[39m\u001b[38;5;241m.\u001b[39merror_estimator_order, \u001b[38;5;28mself\u001b[39m\u001b[38;5;241m.\u001b[39mrtol, \u001b[38;5;28mself\u001b[39m\u001b[38;5;241m.\u001b[39matol)\n",
      "File \u001b[0;32m/opt/anaconda3/lib/python3.12/site-packages/scipy/integrate/_ivp/base.py:154\u001b[0m, in \u001b[0;36mOdeSolver.__init__.<locals>.fun\u001b[0;34m(t, y)\u001b[0m\n\u001b[1;32m    152\u001b[0m \u001b[38;5;28;01mdef\u001b[39;00m \u001b[38;5;21mfun\u001b[39m(t, y):\n\u001b[1;32m    153\u001b[0m     \u001b[38;5;28mself\u001b[39m\u001b[38;5;241m.\u001b[39mnfev \u001b[38;5;241m+\u001b[39m\u001b[38;5;241m=\u001b[39m \u001b[38;5;241m1\u001b[39m\n\u001b[0;32m--> 154\u001b[0m     \u001b[38;5;28;01mreturn\u001b[39;00m \u001b[38;5;28mself\u001b[39m\u001b[38;5;241m.\u001b[39mfun_single(t, y)\n",
      "File \u001b[0;32m/opt/anaconda3/lib/python3.12/site-packages/scipy/integrate/_ivp/base.py:23\u001b[0m, in \u001b[0;36mcheck_arguments.<locals>.fun_wrapped\u001b[0;34m(t, y)\u001b[0m\n\u001b[1;32m     22\u001b[0m \u001b[38;5;28;01mdef\u001b[39;00m \u001b[38;5;21mfun_wrapped\u001b[39m(t, y):\n\u001b[0;32m---> 23\u001b[0m     \u001b[38;5;28;01mreturn\u001b[39;00m np\u001b[38;5;241m.\u001b[39masarray(fun(t, y), dtype\u001b[38;5;241m=\u001b[39mdtype)\n",
      "File \u001b[0;32m/opt/anaconda3/lib/python3.12/site-packages/scipy/integrate/_ivp/ivp.py:593\u001b[0m, in \u001b[0;36msolve_ivp.<locals>.fun\u001b[0;34m(t, x, fun)\u001b[0m\n\u001b[1;32m    592\u001b[0m \u001b[38;5;28;01mdef\u001b[39;00m \u001b[38;5;21mfun\u001b[39m(t, x, fun\u001b[38;5;241m=\u001b[39mfun):\n\u001b[0;32m--> 593\u001b[0m     \u001b[38;5;28;01mreturn\u001b[39;00m fun(t, x, \u001b[38;5;241m*\u001b[39margs)\n",
      "Cell \u001b[0;32mIn[21], line 6\u001b[0m, in \u001b[0;36mdHb_ode\u001b[0;34m(t, q, v, f, E0, alpha, tau)\u001b[0m\n\u001b[1;32m      4\u001b[0m \u001b[38;5;28;01mdef\u001b[39;00m \u001b[38;5;21mdHb_ode\u001b[39m(t, q, v, f, E0, alpha, tau):\n\u001b[1;32m      5\u001b[0m     \u001b[38;5;28;01mif\u001b[39;00m v \u001b[38;5;241m==\u001b[39m \u001b[38;5;241m0\u001b[39m \u001b[38;5;129;01mor\u001b[39;00m tau \u001b[38;5;241m==\u001b[39m \u001b[38;5;241m0\u001b[39m \u001b[38;5;129;01mor\u001b[39;00m E0 \u001b[38;5;241m==\u001b[39m \u001b[38;5;241m0\u001b[39m \u001b[38;5;129;01mor\u001b[39;00m f \u001b[38;5;241m==\u001b[39m \u001b[38;5;241m0\u001b[39m:\n\u001b[0;32m----> 6\u001b[0m         \u001b[38;5;28;01mraise\u001b[39;00m \u001b[38;5;167;01mValueError\u001b[39;00m(\u001b[38;5;124m\"\u001b[39m\u001b[38;5;124mDenominator in the ODE is zero\u001b[39m\u001b[38;5;124m\"\u001b[39m)\n\u001b[1;32m      7\u001b[0m     dqdt \u001b[38;5;241m=\u001b[39m (\u001b[38;5;241m1\u001b[39m\u001b[38;5;241m/\u001b[39mtau) \u001b[38;5;241m*\u001b[39m ((f\u001b[38;5;241m/\u001b[39mE0) \u001b[38;5;241m*\u001b[39m (\u001b[38;5;241m1\u001b[39m \u001b[38;5;241m-\u001b[39m (\u001b[38;5;241m1\u001b[39m \u001b[38;5;241m-\u001b[39m E0)\u001b[38;5;241m^\u001b[39m(\u001b[38;5;241m1\u001b[39m\u001b[38;5;241m/\u001b[39mf)) \u001b[38;5;241m-\u001b[39m v\u001b[38;5;241m^\u001b[39m(\u001b[38;5;241m1\u001b[39m\u001b[38;5;241m/\u001b[39malpha) \u001b[38;5;241m*\u001b[39m (q\u001b[38;5;241m/\u001b[39mv)) \u001b[38;5;66;03m# Raising constant to a vector\u001b[39;00m\n\u001b[1;32m      8\u001b[0m     \u001b[38;5;28;01mreturn\u001b[39;00m dqdt\n",
      "\u001b[0;31mValueError\u001b[0m: Denominator in the ODE is zero"
     ]
    }
   ],
   "source": [
    "E0 = 0.4 # Resting oxygen extraction fraction (static)\n",
    "\n",
    "# For a single region at a single timepoint... \n",
    "def dHb_ode(t, q, v, f, E0, alpha, tau):\n",
    "    if v == 0 or tau == 0 or E0 == 0 or f == 0:\n",
    "        raise ValueError(\"Denominator in the ODE is zero\")\n",
    "    dqdt = (1/tau) * ((f/E0) * (1 - (1 - E0)^(1/f)) - v^(1/alpha) * (q/v)) # Raising constant to a vector\n",
    "    return dqdt\n",
    "\n",
    "dHb_vec = np.empty((3200, 4))\n",
    "\n",
    "q0 = [0]\n",
    "for region in range(4):\n",
    "    for index in range(3200):\n",
    "        t = index * 3.6\n",
    "\n",
    "        # Solve ODE\n",
    "        q = solve_ivp(dHb_ode, (t-1, t), q0, args=(volume_vec[index, region], flow_vec[index, region], E0, alpha, tau))\n",
    "\n",
    "        dHb_vec[index, region] = q.y[:, -1]\n",
    "\n",
    "print(dHb_vec)"
   ]
  },
  {
   "cell_type": "markdown",
   "id": "74fc1d5f-2d48-4915-b4e6-d25e06f6eff1",
   "metadata": {},
   "source": [
    "Then the BOLD signal change equation to get the change in signal above baseline produced by each region. This provides the basis of the BOLD timeseries we will compare with the experimental data. "
   ]
  },
  {
   "cell_type": "code",
   "execution_count": null,
   "id": "a47d5014-5227-41cd-a59e-8f2cc81cadd3",
   "metadata": {},
   "outputs": [],
   "source": [
    "TE = 0.04     # fMRI echo time (static)\n",
    "epsilon_h = 0 # Fraction of intravascular to extravascular signal (prior)\n",
    "r0 = 25       # Oxygen extraction rate constant (static)\n",
    "nu0 = 40.3    # Blood volume normalized to rest (static)\n",
    "V0 = 0        # Resting venous blood volume fraction (static)\n",
    "\n",
    "k1 = 4.3 * nu0 * E0 * TE\n",
    "k2 = epsilon_h * r0 * E0 * TE\n",
    "k3 = 1 - epsilon_h\n",
    "\n",
    "dS_S0 = V0 * (k1*(1 - dHb_vec) + k2*(1 - np.divide(dHb_vec, volume_vec)) + k3*(1 - volume_vec))"
   ]
  },
  {
   "cell_type": "markdown",
   "id": "7cea6d38-0bb4-4a39-9368-12199ad613d0",
   "metadata": {},
   "source": [
    "Now, we form the BOLD signal timeseries by adding in several more parameters to the equation: \n",
    "\n",
    "$y = g(z, \\theta^h) + X_0 \\beta_0 + \\epsilon$\n",
    "\n",
    "where $g(z, \\theta^h)$ is what we just computed, $X_0$ is the design matrix for null effects and $\\beta_0$ associated parameters, and $\\epsilon$ is normally distributed observation noise.\n",
    "\n",
    "For our purposes, we will assume that $X_0$ and $\\beta_0$ are null, so we won't need to consider their effects. We will also not consider the effects of $\\epsilon$, since our approximated data is normally distributed. "
   ]
  },
  {
   "cell_type": "code",
   "execution_count": null,
   "id": "9a115fe9-ac34-4f2c-9b28-b94503e6175f",
   "metadata": {},
   "outputs": [],
   "source": []
  }
 ],
 "metadata": {
  "kernelspec": {
   "display_name": "Python 3 (ipykernel)",
   "language": "python",
   "name": "python3"
  },
  "language_info": {
   "codemirror_mode": {
    "name": "ipython",
    "version": 3
   },
   "file_extension": ".py",
   "mimetype": "text/x-python",
   "name": "python",
   "nbconvert_exporter": "python",
   "pygments_lexer": "ipython3",
   "version": "3.12.7"
  }
 },
 "nbformat": 4,
 "nbformat_minor": 5
}
