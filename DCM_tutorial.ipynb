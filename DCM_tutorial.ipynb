{
 "cells": [
  {
   "cell_type": "markdown",
   "id": "116e134d-1e21-4ace-a670-0e90fa1fefcb",
   "metadata": {},
   "source": [
    "# DCM Tutorial "
   ]
  },
  {
   "cell_type": "markdown",
   "id": "5e56317f-cfae-4334-b807-ec73bc00072d",
   "metadata": {},
   "source": [
    "The dynamic causal model, first presented by Friston, et al. 2002, provides a means of modeling the effective connectivity between neural populations that underlies task based or resting state functional neuroimaging data as measured through fMRI, EEG, and MEG. "
   ]
  },
  {
   "cell_type": "markdown",
   "id": "7b69c7b7-ca12-4433-98cf-a1dfff09901e",
   "metadata": {},
   "source": [
    "## Model Components"
   ]
  },
  {
   "cell_type": "markdown",
   "id": "4d334d3d-080e-4e4c-b630-9335d2849d0c",
   "metadata": {},
   "source": [
    "The model consists of three main parts:\n",
    "\n",
    "-  **Dynamic Causal Model:** A model that combines a bilinear model of neuronal dynamics with a neuroimaging method - specific model (based on hemodynamic or electrophysiological signatures). Proposed brain regions and potential connections between regions are specified in one or more candidate models.\n",
    "-  **Variational Laplace:** The process by which candidate model parameters are optimized and their uncertainty is determined. Approximates the log marginal likelihood for each model using variational free energy. Comparing the free energy of candidate models enalbes the model that best explains the data to be selected.\n",
    "-  **Model Selection & Comparison:** The process by which model structure is selected. There are two common approaches:\n",
    "    - **Bayesian Model Selection (BMS):** Multiple DCM models are optimized, where each describes a hypothesis about the connectivity between brain regions of interest. The model that best describes each participant's data is determined and the average connectivity parameters are determined using Bayesian Model Averaging, with each parameter a weighted average of the candidate models based on each's prior probability.\n",
    "    - **Parametric Empirical Bayes (PEB):** Assumes that each participant varies in the strength of connection between regions. Models the soruces of variability in connection strengths across subjects using fixed and random effects. Specifies one DCM per subject and a Bayesian GLM to model parameters at the group level. Tests hypotheses by comparing the group level model to reduced group level models where certain combinations of connections are switched on and off to determine the best fit for the data. "
   ]
  },
  {
   "cell_type": "markdown",
   "id": "6acaf4b2-2d91-43a5-9e02-2b8d492aebcd",
   "metadata": {},
   "source": [
    "## (1) General DCM Model: Mathematical Framework "
   ]
  },
  {
   "cell_type": "markdown",
   "id": "bd544055-73c4-48a4-9d17-166a81221816",
   "metadata": {},
   "source": [
    "This model produces a deterministic model of neurla dynamics in a network of n interacting brain regions/nodes. "
   ]
  },
  {
   "cell_type": "markdown",
   "id": "a566c534-95ff-4403-819c-82db2c555e71",
   "metadata": {},
   "source": [
    "The model transforms a neuronal state vector $\\vec{x}$ where each region is represented by a single hidden state using the bilinear differential equation:\n",
    "\n",
    "$\\frac{dx}{dt} = f(x, u, \\theta) = Ax + \\Sigma_{j=1}^m u_j B^{(j)} x + Cu$ \n",
    "\n",
    "where\n",
    "\n",
    "$u$ represents the external or exogenous input.\n",
    "\n",
    "$A = \\frac{\\partial f}{\\partial x} |_{u=0}$ represents the fixed (average) coupling among nodes in the absence of exogenous output $u(t)$. This roughly represents latent coupling among nodes in the absence of experimental perturbations.\n",
    "\n",
    "$B = \\frac{\\partial^2 f}{\\partial x \\partial u}$ represents the change in latent coupling induced by the jth input, which encodes context sensitive changes in A, or modulations of coupling by experimental perturbations. \n",
    "\n",
    "$C = \\frac{\\partial f}{\\partial u} |_{x = 0}$ represents the influence of exogneous inputs that cause perturbations in hidden states. "
   ]
  },
  {
   "cell_type": "markdown",
   "id": "36479e2b-7f03-452f-b0cd-7b9aeb632c41",
   "metadata": {},
   "source": [
    "The model results from a bilinear Taylor approximation to any dynamical model of how changes in neuronal activity in node x_i are caused by changes in the others. Parameters $A, B, C \\in \\theta$ are coupling parameters we seek to find that determine the functional architecture and interactions between brain regions at a neuronal level. "
   ]
  },
  {
   "cell_type": "markdown",
   "id": "5c13f20a-73d6-4794-88b7-242a0e125ab6",
   "metadata": {},
   "source": [
    "### DCM for fMRI: Hemodynamic Model "
   ]
  },
  {
   "cell_type": "markdown",
   "id": "22a66fd4-633d-4a9f-b892-598774fa61fe",
   "metadata": {},
   "source": [
    "This model describes the transformation of neural activity into a BOLD response. The common hemodynamic model uses the \"balloon model\", which uses the analogy of an inflated balloon to describe the behavior of the postcapillary venous component of the blood vessels \"feeding\" the neurons to encourage activity. The model postulates a nonlinear dependence of the BOLD signal on blood volume $V$ and deoxyhemoglobin content $q$. It explores the evolution of $V$ and $q$ by two differential equations operating under the assumptions that: \n",
    "\n",
    "- Small post capillary blood vessels releact to an influx of blood like an inflating balloon. So, changes in normalized blood volume $V$ correspond to differences in flow $f_i$ and outflow $f_o$ with some time constant $\\tau$ where $\\tau$ represents the mean transit time for blood to traverse the venous compartment such that $ \\tau = \\frac{V_0}{f_0} = \\frac{\\text{resting blood volume}}{\\text{resting blood flow}}$. Outflow $f_o$ is modelled as a function of volume with parameter $\\alpha$ the resistance of the venous balloon: $f_o = v^{1/\\alpha}$.\n",
    "\n",
    "- Oxygen extraction is highly coupled to blood flow, so it determines the deoxyhemoglobin content $q$. Generally a change in $q$ refers to a delivery of deoxyhemoglobin into the venous compartment minus that expelled at a given time point. So, the oxygen gradient across the capillary wall and oxygen extraction rate depend entirely on oxygen delivery, and as a result, blood flow.\n",
    "\n",
    "These assumptions lead to state equations for $V$ and $q$:\n",
    "\n",
    "$\\tau \\frac{dV}{dt} = f_i(t) - v(t)^{1/\\alpha}$\n",
    "\n",
    "$\\tau \\frac{dq}{dt} = f_i(t) ( \\frac{1 - (1 - E_0)^{1/f_i}}{E_0}) - v(t)^{1/\\alpha}(\\frac{q(t)}{(v(t)}$\n",
    "\n",
    "where $E_0$ is oxygen extraction fraction at rest. "
   ]
  },
  {
   "cell_type": "markdown",
   "id": "f31bb53a-849f-4cc6-935a-c999d974085c",
   "metadata": {},
   "source": [
    "The hemodynamic model also has vascular state equations that address how bloodflow depends on neural activity, connecting to the neural state vector $x$. These vascular responses to neural activity correspond to a damped oscillator: changes in neural activity $x$ elicit exponentially decaying vasodilatory signal $s$ subject to feedback regulation by the flow $f$ which is normalized to resting flow $F_0$ that it induces. This results in two equations:\n",
    "\n",
    "$ \\frac{ds}{dt} = x - \\kappa s - \\gamma(f-1)$\n",
    "\n",
    "$\\frac{df}{dt} = s$ \n",
    "\n",
    "where $x$ is the neural state vector, $\\kappa$ the rate constant of signal decay, and $\\gamma$ the rate constant of feedback regulation. "
   ]
  },
  {
   "cell_type": "markdown",
   "id": "4889ffaf-1427-4c18-98df-1a1099b940d5",
   "metadata": {},
   "source": [
    "Several variants of the BOLD model itself, which unites parameters determined by the prior equations, but all are variations on a general model proposed by Stephen et al. 2007: \n",
    "\n",
    "$ \\frac{\\delta s}{s_0} = v_0 ( k_1(1 - q) + k_2(1 - \\frac{q}{v}) + k_3(1 - v))$ \n",
    "\n",
    "where \n",
    "\n",
    "$k_1 = 4.3 \\upsilon_0 E_0 T E$\n",
    "\n",
    "$k_2 = \\epsilon r_0 E_0 TE$\n",
    "\n",
    "$k_3 = 1 - \\epsilon$\n",
    "\n",
    "and $\\upsilon_0$ is the frequency offset for fully deoxygenated blood ($\\upsilon = 40.3 s^{-1}$ at 1.5 teslas, $\\epsilon$ is the ratio of intra and exogenous signal, TE is the time elapsed between when protons are excited and measured (how long signal creation takes), and $s_0$ is the BOLD signal at rest, described by:\n",
    "\n",
    "$s_0 = (1 - V_0)S_E + V_0S_I$\n",
    "\n",
    "where $V_0$ is the resting venous volume fraction, $S_E$ is the extravenous signal, and $S_I$ the intravascular signal. "
   ]
  },
  {
   "cell_type": "markdown",
   "id": "71ebc615-ca6c-452a-9d60-513b0c6e9b45",
   "metadata": {},
   "source": [
    "For any combination of parameters $\\theta$ and inputs $u$, the measured BOLD response $y$ is modelled as a predicted BOLD signal $h(x, u, \\theta)$ plus a linear combination of confounds $X\\beta$ and Gaussian observation error:\n",
    "\n",
    "$y = h(x, u, \\theta) + X\\beta + \\epsilon$"
   ]
  },
  {
   "cell_type": "markdown",
   "id": "60b1421d-9b29-4894-b63e-685340f15164",
   "metadata": {},
   "source": [
    "### DCM for EEG: Electrophysiological Model"
   ]
  },
  {
   "cell_type": "markdown",
   "id": "646cbbc3-6702-4653-a68d-d17dcfcf9599",
   "metadata": {},
   "source": [
    "The EEG adaption was originally presented in David, Kiebel, et al. 2006. In this adaptation, the neuronal part of DCM is represented by a graph of activity sources where each source is represented with three neuronal subpopulations representing forward, backward, and lateral connections. These populations are connected within themselves and to other populations. The connections between sources are based on the Jansen Model (1995), and subdivided into supragranular layers, infragranular layers, and granular layer 4 based on monkey cortex studies. "
   ]
  },
  {
   "cell_type": "markdown",
   "id": "8119ae98-1254-4ec8-b519-bf5ff9b14654",
   "metadata": {},
   "source": [
    "The three classes of connections used are classified as:\n",
    "\n",
    "- bottom up or froward connections originating in agranular layers and terminating in layer #4\n",
    "- top down or backward connections connecting agranular layers\n",
    "- lateral connections starting in agranular layers and targeting all layers\n",
    "\n",
    "All connections are excitatory and assumed to occur between pyramidal cells."
   ]
  },
  {
   "cell_type": "markdown",
   "id": "e61e9cec-f452-4d8b-a2ca-23c38b2d3829",
   "metadata": {},
   "source": [
    "#### Jansen Model "
   ]
  },
  {
   "cell_type": "markdown",
   "id": "c1ee62a2-4ad6-4504-bafb-5454c5ac7c33",
   "metadata": {},
   "source": [
    "In this model, excitatory pyramidal cells receive input from inhibitory and excitatory populations of interneurons via interal connections confined to the cortical sheet. Excitatory interneuorns are assumed to be spiny stellate cells primarily found in layer 4, receiving forward connections. Excitatory pyramidal cells and inhbiitory interneurons occupy agranular layers and receive backward and lateral inputs. "
   ]
  },
  {
   "cell_type": "markdown",
   "id": "03128cec-d457-4c90-b9d4-50e321f67672",
   "metadata": {},
   "source": [
    "Similar to the fMRI structure, the model is composed of two main equations:\n",
    "\n",
    "$ \\frac{dx}{dt} = f(x, u, \\theta)$ \n",
    "\n",
    "$ h = g(x, \\theta)$\n",
    "\n",
    "where $\\theta$ are unknown quantities that parametrize the state and observer equations, $x$ represents cortical neural states, and $u$ represents exogenous inputs, experimentally produced differences in activity above baseline. \n",
    "\n",
    "The state equations $\\frac{dx}{dt} = f(x, u, \\theta) $ for the neuronal states of the multiple areas used are:\n",
    "\n",
    "$\\frac{dx_0}{dt} = x_5 - x_6$\n",
    "\n",
    "$\\frac{dx_1}{dt} = x_4$\n",
    "\n",
    "$\\frac{dx_2}{dt} = x_5$\n",
    "\n",
    "$\\frac{dx_3}{dt} = x_6$\n",
    "\n",
    "$\\frac{dx_4}{dt} = \\frac{H_e}{\\tau_e} ((C^F + C^L + \\gamma_1I) S(x_0) + C^Uu) - \\frac{2x_4}{\\tau_e} - \\frac{x_1}{\\tau_e^2}$\n",
    "\n",
    "$\\frac{dx_5}{dt} = \\frac{H_e}{\\tau_e} ((C^B + C^L) S(x_0) + \\gamma_2S(x_1)) \\frac{2x_5}{\\tau_e} - \\frac{x_2}{\\tau_e^2}$\n",
    "\n",
    "$\\frac{dx_6}{dt} = \\frac{H_i}{\\tau_i} \\gamma_4 S(x_7) - \\frac{2x_6}{\\tau_i} - \\frac{x_3}{\\tau_i^2}$\n",
    "\n",
    "$\\frac{dx_7}{dt} = x_8$\n",
    "\n",
    "$\\frac{dx_8}{dt} = \\frac{H_e}{\\tau_e} ((C^B + C^L + \\gamma_3I) S(x_0)) - \\frac{2x_8}{\\tau_e} - \\frac{x_7}{\\tau_e}$\n",
    "\n",
    "\n",
    "where $x_j = [x_j^{(1)} ...]^T$, \n",
    "\n",
    "$x_0^{(i)}, ..., x_8^{(i)}$ is the mean transmembrane potentials and currents of the 3 subpopulations from the ith source,\n",
    "\n",
    "$C_F$ is the forward extrinsic connections, \n",
    "\n",
    "$C_B$ the backwards intrinsic connetions, \n",
    "\n",
    "$C_L$ the lateral extrinsic connections,\n",
    "\n",
    "and $\\gamma_{1,2,3,4}$ the constants that determine the strength of intrinsic connections and reflect the number of synapses expressed by each subpopulation. "
   ]
  },
  {
   "cell_type": "markdown",
   "id": "a453b17d-8874-4164-8089-91a42bf45e43",
   "metadata": {},
   "source": [
    "The other variables come from two operators that determine the dynamics of the system. "
   ]
  },
  {
   "cell_type": "markdown",
   "id": "29ba75da-e92c-4be5-a27f-cef1d58a709f",
   "metadata": {},
   "source": [
    "## (2) Variational Laplace / Optimization"
   ]
  },
  {
   "cell_type": "markdown",
   "id": "b617ee62-c218-44fa-ac4d-ab1af8d71410",
   "metadata": {},
   "source": [
    "To review, DCMs generally involve two main equations: \n",
    "\n",
    "$ \\frac{dx}{dt} = J(t) x(t) + C u_{i}(t) $,\n",
    "\n",
    "with $J(t)$ the time-varying connectivity matrix and $u_i(t)$ the vector of external driving inputs and \n",
    "\n",
    "$ y - g(x, \\theta_n) + \\epsilon_y$ ,\n",
    "\n",
    "an observation model that translates $x$ into fMRI (or EEG) activity, $y$. "
   ]
  },
  {
   "cell_type": "markdown",
   "id": "5c63d623-3d31-4b6c-b660-1e2688761621",
   "metadata": {},
   "source": [
    "Our goal in defining these equations and possible network connectivities is to first optimize connectivity parameters for each of the suggested models, then decide which possible optimized model structure is the best candidate for that of our experimental data. This section describes how to optimize connectivity parameters in each candidate model structure using a form of maximum likelihood optimization known as Variational Laplace. "
   ]
  },
  {
   "cell_type": "markdown",
   "id": "0cbf40fd-3554-4e07-bdb5-ac87ba8f2a99",
   "metadata": {},
   "source": [
    "### Setting Up for Variational Laplace "
   ]
  },
  {
   "cell_type": "markdown",
   "id": "5ab74a89-c64b-4497-80bc-2eb43b2dacf7",
   "metadata": {},
   "source": [
    "Here we will briefly describe how to set up for the variational laplace technique. For a more indepth review, see Friston, et al. 2002 and xxx. \n",
    "\n",
    "We begin by defining:\n",
    "\n",
    "$P(\\theta)$: the prior, our belief of model parameters before \"seeing\" the data\n",
    "\n",
    "$P( y | \\theta)$: the likelihood, the likelihood of observing data $y$ given parameters $\\theta$.\n",
    "\n",
    "The likelihood and prior are related by Bayes' rule: \n",
    "\n",
    "$ P(y) = \\int p(y, \\theta) d \\theta = \\int p(y | \\theta) p(\\theta) d\\theta $\n",
    "\n",
    "This equation seems to provide a direct way for us to calculate $p(y)$, which is the probability of the data we have using an optimized model structure. Unfortunately this equation cannot be solved diretly, so we rely on variational Bayes methods to create an optimzed lower bound on the probability $p(y)$ so we know at least how well a given model can be performed. \n",
    "\n",
    "Using Bayesian inference to update the probability density over parameters after seeing the data allows us to obtain $p(y)$. The Variational Laplace technique involves utilizing \"free energy\" as an approximation to the marginal likelihood, which provides a means of scoring the models. \n",
    "\n",
    "To construct a lower bound on $p(\\theta | y)$, we introduce a probability density $Q(\\theta)$ which represents an approximation on the posterior over the parameters to yield:\n",
    "\n",
    "$ \\ln p(y) = \\ln E_{Q(\\theta)} \\int \\frac{P(y, \\theta)}{Q(\\theta)} d\\theta$\n",
    "\n",
    "We then define free energy $F(Q(\\theta)) = E_{Q(\\theta)} [ \\ln \\frac{p(y, \\theta)}{Q(\\theta)}]$, which using Jensen's inequality (the average of a log is $\\leq$ the log of an averge) yields: \n",
    "\n",
    "$F[Q(\\theta)] \\leq \\ln p(y) $\n",
    "\n",
    "This implies that free energy provides a lower bound on the natural logarithm of $p(y)$. "
   ]
  },
  {
   "cell_type": "markdown",
   "id": "19cba03a-b56c-44a0-ad0f-805be061d81d",
   "metadata": {},
   "source": [
    "It can be demonstrated that \n",
    "\n",
    "$F[Q(\\theta)] = E_{Q(\\theta)} [ \\ln P(y, \\theta) - \\ln Q(\\theta)]$. \n",
    "\n",
    "To optimize parameters that comprise the free energy $\\theta$, we develop expressions for $\\ln p(y, \\theta)$ and $Q(\\theta)$ to yield: \n",
    "\n",
    "$ F[Q(\\theta)] =  \\ln p(y, \\mu) - \\frac{n}{2} + \\frac{1}{2} [\\ln(|\\Sigma|) + n \\ln 2\\pi e]$ \n",
    "\n",
    "where $\\mu = \\text{argmax}_\\theta p(y, \\theta) = \\text{argmax}_\\theta p(\\theta | y)$,\n",
    "\n",
    "$n$ is the total number of parameters, and\n",
    "\n",
    "$\\Sigma$ the posterior covariance."
   ]
  },
  {
   "cell_type": "markdown",
   "id": "63304200-b99e-4079-9996-1583a8a5037a",
   "metadata": {},
   "source": [
    "An alternative formulation of the free energy involves separating the models parameters $\\beta$ and hyperparameters $\\lambda$ that control observation noise. This alternative uses a mean field approximation to separate $\\theta$  into $\\beta$ and $\\lambda$. "
   ]
  },
  {
   "cell_type": "markdown",
   "id": "11534415-1c59-483b-b9df-ae673610d528",
   "metadata": {},
   "source": [
    "### Maximizing Free Energy $ F[ Q(\\theta)] $\n",
    "\n"
   ]
  },
  {
   "cell_type": "markdown",
   "id": "4a52bad0-ed52-4848-a01a-499dc79404ec",
   "metadata": {},
   "source": [
    "The variational laplace technique involves continuously transitioning between Gradient Ascent and Gauss Newton optimization, enabling faster more accurate convergence to the optimal model parameters. The switching continues until the changein free energy between iterations is sufficiently small to be considered to have converged. \n",
    "\n"
   ]
  },
  {
   "cell_type": "markdown",
   "id": "a5a9afcb-b107-4ead-84a9-91a73e768b28",
   "metadata": {},
   "source": [
    "## Model Selection and Comparison "
   ]
  },
  {
   "cell_type": "markdown",
   "id": "b03353b6-2dd0-48ba-b80f-e2b78d1e06a7",
   "metadata": {},
   "source": [
    "Several approaches to model selection and comparison exist. Two of the most common approaches for DCM fMRI model selection are Bayesian Model Selection (BMS) and Parametric Empirical Bayes (PEB). "
   ]
  },
  {
   "cell_type": "markdown",
   "id": "2f65e406-9774-4ea3-bd4a-7c8548276972",
   "metadata": {},
   "source": [
    "### Bayesian Model Selection (BMS)"
   ]
  },
  {
   "cell_type": "markdown",
   "id": "31dbf469-a658-484a-adac-e24393372585",
   "metadata": {},
   "source": [
    "This technique involves computation of the Bayes factor:\n",
    "\n",
    "$ B_{ij} = \\frac{p(Y | m = i)}{p(Y | m = j)} \\approx \\frac{F[\\theta_i]}{F[\\theta_i]}$\n",
    "\n",
    "This compares the approximate posteriors of models i and j with a free energy approximation. \n",
    "\n",
    "The log Bayes factor is approximately the difference of model free energies: $ log( B_{ij}) \\approx F_i - F_j$. \n",
    "\n",
    "It can be interpreted as evidence for a model or hypothesis. If there is not strong evidence for one model over the other by comparing Bayes factors, Bayesian Model Averaging can be used to determine the ideal model parameters by computing the weighted average of candidate model parameters based on each's prior probability. "
   ]
  },
  {
   "cell_type": "markdown",
   "id": "d1a056c1-c68d-4420-a0c4-10138a85ba5b",
   "metadata": {},
   "source": [
    "### Parametric Empirical Bayes (PEB)"
   ]
  },
  {
   "cell_type": "markdown",
   "id": "8c44f9a6-9b74-4a61-839b-eedec5197f0f",
   "metadata": {},
   "source": [
    "The PEB approach enables the evaluation of group and within-subject variability on model parameters. \n",
    "\n",
    "Here, a single DCM is developed for each participant with all parameters of interest kept \"on\" and all parameters optimized using the methods outlined above. Then create a group level generalized linear model (GLM) over all parameters - this is the PEB model. \n",
    "\n",
    "This model can be used to test covariates and between subject effects. Hypotheses regarding model connectivity can be tested by comparing the \"full\" PEB with alternate PEBs with certain parameters switched off. The best model can be determined via comparison with variational laplace or if no model is a clear winner, Bayesian Model Averaging can be used. "
   ]
  },
  {
   "cell_type": "code",
   "execution_count": null,
   "id": "c74a6a31-1fb1-4ba2-b576-ac4974b3f219",
   "metadata": {},
   "outputs": [],
   "source": []
  }
 ],
 "metadata": {
  "kernelspec": {
   "display_name": "Python 3 (ipykernel)",
   "language": "python",
   "name": "python3"
  },
  "language_info": {
   "codemirror_mode": {
    "name": "ipython",
    "version": 3
   },
   "file_extension": ".py",
   "mimetype": "text/x-python",
   "name": "python",
   "nbconvert_exporter": "python",
   "pygments_lexer": "ipython3",
   "version": "3.12.4"
  }
 },
 "nbformat": 4,
 "nbformat_minor": 5
}
