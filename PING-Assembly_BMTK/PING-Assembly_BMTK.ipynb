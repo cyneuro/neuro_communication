{
  "cells": [
    {
      "cell_type": "markdown",
      "metadata": {},
      "source": []
    },
    {
      "cell_type": "markdown",
      "metadata": {
        "id": "aXssUjrKhvWx"
      },
      "source": [
        "# PING-Assembly Network\n",
        "\n",
        "This network is based on the Pyramidal Interneuron Network Gamma (PING) model from [1]. The proposed model extends the PING network by organizing cells into clusters of densely connected units – assemblies. In this version, assemblies are identical, and the user can set the assembly size as well as within- and between-assembly connectivity. Synaptic weights are scaled automatically so that the network generates oscillations in the low gamma range (30-40 Hz)."
      ]
    },
    {
      "cell_type": "code",
      "execution_count": null,
      "metadata": {
        "colab": {
          "base_uri": "https://localhost:8080/"
        },
        "id": "sfXovzo8U47M",
        "outputId": "a6cdfe1e-41fb-4894-b264-7eb51991bb6a"
      },
      "outputs": [
        {
          "name": "stdout",
          "output_type": "stream",
          "text": [
            "Requirement already satisfied: bmtk in /usr/local/lib/python3.10/dist-packages (1.1.1)\n",
            "Requirement already satisfied: jsonschema in /usr/local/lib/python3.10/dist-packages (from bmtk) (4.23.0)\n",
            "Requirement already satisfied: pandas in /usr/local/lib/python3.10/dist-packages (from bmtk) (2.2.2)\n",
            "Requirement already satisfied: numpy in /usr/local/lib/python3.10/dist-packages (from bmtk) (1.26.4)\n",
            "Requirement already satisfied: six in /usr/local/lib/python3.10/dist-packages (from bmtk) (1.16.0)\n",
            "Requirement already satisfied: h5py in /usr/local/lib/python3.10/dist-packages (from bmtk) (3.12.1)\n",
            "Requirement already satisfied: matplotlib in /usr/local/lib/python3.10/dist-packages (from bmtk) (3.8.0)\n",
            "Requirement already satisfied: scipy in /usr/local/lib/python3.10/dist-packages (from bmtk) (1.13.1)\n",
            "Requirement already satisfied: scikit-image in /usr/local/lib/python3.10/dist-packages (from bmtk) (0.24.0)\n",
            "Requirement already satisfied: sympy in /usr/local/lib/python3.10/dist-packages (from bmtk) (1.13.1)\n",
            "Requirement already satisfied: pynrrd in /usr/local/lib/python3.10/dist-packages (from bmtk) (1.1.1)\n",
            "Requirement already satisfied: attrs>=22.2.0 in /usr/local/lib/python3.10/dist-packages (from jsonschema->bmtk) (24.2.0)\n",
            "Requirement already satisfied: jsonschema-specifications>=2023.03.6 in /usr/local/lib/python3.10/dist-packages (from jsonschema->bmtk) (2024.10.1)\n",
            "Requirement already satisfied: referencing>=0.28.4 in /usr/local/lib/python3.10/dist-packages (from jsonschema->bmtk) (0.35.1)\n",
            "Requirement already satisfied: rpds-py>=0.7.1 in /usr/local/lib/python3.10/dist-packages (from jsonschema->bmtk) (0.20.1)\n",
            "Requirement already satisfied: contourpy>=1.0.1 in /usr/local/lib/python3.10/dist-packages (from matplotlib->bmtk) (1.3.0)\n",
            "Requirement already satisfied: cycler>=0.10 in /usr/local/lib/python3.10/dist-packages (from matplotlib->bmtk) (0.12.1)\n",
            "Requirement already satisfied: fonttools>=4.22.0 in /usr/local/lib/python3.10/dist-packages (from matplotlib->bmtk) (4.54.1)\n",
            "Requirement already satisfied: kiwisolver>=1.0.1 in /usr/local/lib/python3.10/dist-packages (from matplotlib->bmtk) (1.4.7)\n",
            "Requirement already satisfied: packaging>=20.0 in /usr/local/lib/python3.10/dist-packages (from matplotlib->bmtk) (24.1)\n",
            "Requirement already satisfied: pillow>=6.2.0 in /usr/local/lib/python3.10/dist-packages (from matplotlib->bmtk) (10.4.0)\n",
            "Requirement already satisfied: pyparsing>=2.3.1 in /usr/local/lib/python3.10/dist-packages (from matplotlib->bmtk) (3.2.0)\n",
            "Requirement already satisfied: python-dateutil>=2.7 in /usr/local/lib/python3.10/dist-packages (from matplotlib->bmtk) (2.8.2)\n",
            "Requirement already satisfied: pytz>=2020.1 in /usr/local/lib/python3.10/dist-packages (from pandas->bmtk) (2024.2)\n",
            "Requirement already satisfied: tzdata>=2022.7 in /usr/local/lib/python3.10/dist-packages (from pandas->bmtk) (2024.2)\n",
            "Requirement already satisfied: typing-extensions in /usr/local/lib/python3.10/dist-packages (from pynrrd->bmtk) (4.12.2)\n",
            "Requirement already satisfied: networkx>=2.8 in /usr/local/lib/python3.10/dist-packages (from scikit-image->bmtk) (3.4.2)\n",
            "Requirement already satisfied: imageio>=2.33 in /usr/local/lib/python3.10/dist-packages (from scikit-image->bmtk) (2.36.0)\n",
            "Requirement already satisfied: tifffile>=2022.8.12 in /usr/local/lib/python3.10/dist-packages (from scikit-image->bmtk) (2024.9.20)\n",
            "Requirement already satisfied: lazy-loader>=0.4 in /usr/local/lib/python3.10/dist-packages (from scikit-image->bmtk) (0.4)\n",
            "Requirement already satisfied: mpmath<1.4,>=1.1.0 in /usr/local/lib/python3.10/dist-packages (from sympy->bmtk) (1.3.0)\n",
            "Requirement already satisfied: neuron in /usr/local/lib/python3.10/dist-packages (8.2.6)\n",
            "Requirement already satisfied: numpy<2,>=1.9.3 in /usr/local/lib/python3.10/dist-packages (from neuron) (1.26.4)\n",
            "Requirement already satisfied: packaging in /usr/local/lib/python3.10/dist-packages (from neuron) (24.1)\n",
            "Requirement already satisfied: find-libpython in /usr/local/lib/python3.10/dist-packages (from neuron) (0.4.0)\n",
            "Requirement already satisfied: setuptools in /usr/local/lib/python3.10/dist-packages (from neuron) (75.1.0)\n"
          ]
        }
      ],
      "source": [
        "# Install libraries\n",
        "!pip install bmtk neuron --quiet"
      ]
    },
    {
      "cell_type": "code",
      "execution_count": null,
      "metadata": {
        "id": "D7Om94Wmje1W"
      },
      "outputs": [],
      "source": [
        "import numpy as np\n",
        "import matplotlib.pyplot as plt\n",
        "\n",
        "from bmtk.utils.reports.spike_trains import SpikeTrains\n",
        "\n",
        "import json"
      ]
    },
    {
      "cell_type": "code",
      "execution_count": null,
      "metadata": {
        "colab": {
          "base_uri": "https://localhost:8080/"
        },
        "id": "eKgzSyUuh2Lo",
        "outputId": "689fd992-2082-495f-e9ca-b90b6c060515"
      },
      "outputs": [
        {
          "name": "stdout",
          "output_type": "stream",
          "text": [
            "Archive:  PING-bmtk.zip\n",
            "   creating: PING-bmtk/\n",
            "  inflating: __MACOSX/._PING-bmtk    \n",
            "  inflating: PING-bmtk/update_configs.py  \n",
            "  inflating: __MACOSX/PING-bmtk/._update_configs.py  \n",
            "  inflating: PING-bmtk/.DS_Store     \n",
            "  inflating: __MACOSX/PING-bmtk/._.DS_Store  \n",
            "  inflating: PING-bmtk/readme.md     \n",
            "  inflating: __MACOSX/PING-bmtk/._readme.md  \n",
            "   creating: PING-bmtk/components/\n",
            "  inflating: __MACOSX/PING-bmtk/._components  \n",
            "  inflating: PING-bmtk/check_output.py  \n",
            "  inflating: __MACOSX/PING-bmtk/._check_output.py  \n",
            "  inflating: PING-bmtk/parameters.py  \n",
            "  inflating: __MACOSX/PING-bmtk/._parameters.py  \n",
            "  inflating: PING-bmtk/batch.sh      \n",
            "  inflating: __MACOSX/PING-bmtk/._batch.sh  \n",
            "  inflating: PING-bmtk/build_network.py  \n",
            "  inflating: __MACOSX/PING-bmtk/._build_network.py  \n",
            "   creating: PING-bmtk/components/mechanisms/\n",
            "  inflating: __MACOSX/PING-bmtk/components/._mechanisms  \n",
            "  inflating: PING-bmtk/components/.DS_Store  \n",
            "  inflating: __MACOSX/PING-bmtk/components/._.DS_Store  \n",
            "   creating: PING-bmtk/components/morphologies/\n",
            "  inflating: __MACOSX/PING-bmtk/components/._morphologies  \n",
            " extracting: PING-bmtk/components/README.md  \n",
            "  inflating: __MACOSX/PING-bmtk/components/._README.md  \n",
            "   creating: PING-bmtk/components/synaptic_models/\n",
            "  inflating: __MACOSX/PING-bmtk/components/._synaptic_models  \n",
            "   creating: PING-bmtk/components/biophysical_neuron_models/\n",
            "  inflating: __MACOSX/PING-bmtk/components/._biophysical_neuron_models  \n",
            "   creating: PING-bmtk/components/templates/\n",
            "  inflating: __MACOSX/PING-bmtk/components/._templates  \n",
            "   creating: PING-bmtk/components/point_neuron_models/\n",
            "  inflating: __MACOSX/PING-bmtk/components/._point_neuron_models  \n",
            "  inflating: PING-bmtk/components/mechanisms/k_wb.mod  \n",
            "  inflating: __MACOSX/PING-bmtk/components/mechanisms/._k_wb.mod  \n",
            "  inflating: PING-bmtk/components/mechanisms/na_wb.mod  \n",
            "  inflating: __MACOSX/PING-bmtk/components/mechanisms/._na_wb.mod  \n",
            "  inflating: PING-bmtk/components/mechanisms/gap.mod  \n",
            "  inflating: __MACOSX/PING-bmtk/components/mechanisms/._gap.mod  \n",
            "  inflating: PING-bmtk/components/mechanisms/vecevent.mod  \n",
            "  inflating: __MACOSX/PING-bmtk/components/mechanisms/._vecevent.mod  \n",
            "  inflating: PING-bmtk/components/mechanisms/.DS_Store  \n",
            "  inflating: __MACOSX/PING-bmtk/components/mechanisms/._.DS_Store  \n",
            "  inflating: PING-bmtk/components/mechanisms/k_rtm.mod  \n",
            "  inflating: __MACOSX/PING-bmtk/components/mechanisms/._k_rtm.mod  \n",
            "  inflating: PING-bmtk/components/mechanisms/na_rtm.mod  \n",
            "  inflating: __MACOSX/PING-bmtk/components/mechanisms/._na_rtm.mod  \n",
            " extracting: PING-bmtk/components/mechanisms/README.md  \n",
            "  inflating: __MACOSX/PING-bmtk/components/mechanisms/._README.md  \n",
            "  inflating: PING-bmtk/components/mechanisms/leak.mod  \n",
            "  inflating: __MACOSX/PING-bmtk/components/mechanisms/._leak.mod  \n",
            " extracting: PING-bmtk/components/morphologies/blank.swc  \n",
            "  inflating: __MACOSX/PING-bmtk/components/morphologies/._blank.swc  \n",
            " extracting: PING-bmtk/components/morphologies/README.md  \n",
            "  inflating: __MACOSX/PING-bmtk/components/morphologies/._README.md  \n",
            "  inflating: PING-bmtk/components/synaptic_models/PING_InhToInh.json  \n",
            "  inflating: __MACOSX/PING-bmtk/components/synaptic_models/._PING_InhToInh.json  \n",
            "  inflating: PING-bmtk/components/synaptic_models/PING_ExcToInh.json  \n",
            "  inflating: __MACOSX/PING-bmtk/components/synaptic_models/._PING_ExcToInh.json  \n",
            " extracting: PING-bmtk/components/synaptic_models/README.md  \n",
            "  inflating: __MACOSX/PING-bmtk/components/synaptic_models/._README.md  \n",
            "  inflating: PING-bmtk/components/synaptic_models/PING_InhToExc.json  \n",
            "  inflating: __MACOSX/PING-bmtk/components/synaptic_models/._PING_InhToExc.json  \n",
            "  inflating: PING-bmtk/components/synaptic_models/PING_ExcToExc.json  \n",
            "  inflating: __MACOSX/PING-bmtk/components/synaptic_models/._PING_ExcToExc.json  \n",
            " extracting: PING-bmtk/components/biophysical_neuron_models/README.md  \n",
            "  inflating: __MACOSX/PING-bmtk/components/biophysical_neuron_models/._README.md  \n",
            " extracting: PING-bmtk/components/templates/README.md  \n",
            "  inflating: __MACOSX/PING-bmtk/components/templates/._README.md  \n",
            "  inflating: PING-bmtk/components/templates/cell_templates.hoc  \n",
            "  inflating: __MACOSX/PING-bmtk/components/templates/._cell_templates.hoc  \n",
            " extracting: PING-bmtk/components/point_neuron_models/README.md  \n",
            "  inflating: __MACOSX/PING-bmtk/components/point_neuron_models/._README.md  \n"
          ]
        }
      ],
      "source": [
        "# Download the files\n",
        "# !git clone ...\n",
        "\n",
        "!rm -r PING-bmtk/\n",
        "!rm -r __MACOSX/\n",
        "!unzip PING-bmtk.zip"
      ]
    },
    {
      "cell_type": "code",
      "execution_count": null,
      "metadata": {
        "colab": {
          "base_uri": "https://localhost:8080/"
        },
        "id": "5262EQpIcOXr",
        "outputId": "8a0f911e-162e-492f-e96b-4030aad909fe"
      },
      "outputs": [
        {
          "name": "stdout",
          "output_type": "stream",
          "text": [
            "/content/PING-bmtk\n"
          ]
        }
      ],
      "source": [
        "# Change the working directory\n",
        "%cd PING-bmtk"
      ]
    },
    {
      "cell_type": "markdown",
      "metadata": {
        "id": "Dfq-PJOxjpyL"
      },
      "source": [
        "---\n",
        "> **ℹ️ NOTE**\n",
        ">\n",
        "> Now open `parameters.py` on the left and update the required parameters.\n",
        "---"
      ]
    },
    {
      "cell_type": "code",
      "execution_count": null,
      "metadata": {
        "colab": {
          "base_uri": "https://localhost:8080/"
        },
        "id": "fbjBPztVffZo",
        "outputId": "60ebbe5c-f078-44c2-d034-61ff5351dc4c"
      },
      "outputs": [
        {
          "name": "stdout",
          "output_type": "stream",
          "text": [
            "/usr/local/bin/nrnivmodl:10: DeprecationWarning: pkg_resources is deprecated as an API. See https://setuptools.pypa.io/en/latest/pkg_resources.html\n",
            "  from pkg_resources import working_set\n",
            "/content/PING-bmtk\n",
            "Mod files: \"components/mechanisms/components/mechanisms//gap.mod\" \"components/mechanisms/components/mechanisms//k_rtm.mod\" \"components/mechanisms/components/mechanisms//k_wb.mod\" \"components/mechanisms/components/mechanisms//leak.mod\" \"components/mechanisms/components/mechanisms//na_rtm.mod\" \"components/mechanisms/components/mechanisms//na_wb.mod\" \"components/mechanisms/components/mechanisms//vecevent.mod\"\n",
            "\n",
            "Creating 'x86_64' directory for .o files.\n",
            "\n",
            " -> \u001b[32mNMODL\u001b[0m ../components/mechanisms//gap.mod\n",
            " -> \u001b[32mNMODL\u001b[0m ../components/mechanisms//k_wb.mod\n",
            " -> \u001b[32mCompiling\u001b[0m mod_func.cpp\n",
            " -> \u001b[32mNMODL\u001b[0m ../components/mechanisms//k_rtm.mod\n",
            "Translating gap.mod into /content/PING-bmtk/x86_64/gap.c\n",
            "Thread Safe\n",
            "Translating k_rtm.mod into /content/PING-bmtk/x86_64/k_rtm.c\n",
            " -> \u001b[32mNMODL\u001b[0m ../components/mechanisms//leak.mod\n",
            "Thread Safe\n",
            " -> \u001b[32mNMODL\u001b[0m ../components/mechanisms//na_rtm.mod\n",
            "Translating k_wb.mod into /content/PING-bmtk/x86_64/k_wb.c\n",
            "Thread Safe\n",
            "Translating na_rtm.mod into /content/PING-bmtk/x86_64/na_rtm.c\n",
            "Thread Safe\n",
            " -> \u001b[32mNMODL\u001b[0m ../components/mechanisms//na_wb.mod\n",
            " -> \u001b[32mNMODL\u001b[0m ../components/mechanisms//vecevent.mod\n",
            "Translating leak.mod into /content/PING-bmtk/x86_64/leak.c\n",
            "Translating na_wb.mod into /content/PING-bmtk/x86_64/na_wb.c\n",
            "Thread Safe\n",
            "Thread Safe\n",
            "Translating vecevent.mod into /content/PING-bmtk/x86_64/vecevent.c\n",
            "Notice: ARTIFICIAL_CELL is a synonym for POINT_PROCESS which hints that it\n",
            "only affects and is affected by discrete events. As such it is not\n",
            "located in a section and is not associated with an integrator\n",
            "Thread Safe\n",
            " -> \u001b[32mCompiling\u001b[0m gap.c\n",
            " -> \u001b[32mCompiling\u001b[0m k_rtm.c\n",
            " -> \u001b[32mCompiling\u001b[0m k_wb.c\n",
            " -> \u001b[32mCompiling\u001b[0m leak.c\n",
            " -> \u001b[32mCompiling\u001b[0m na_rtm.c\n",
            " -> \u001b[32mCompiling\u001b[0m na_wb.c\n",
            " -> \u001b[32mCompiling\u001b[0m vecevent.c\n",
            " => \u001b[32mLINKING\u001b[0m shared library ./libnrnmech.so\n",
            " => \u001b[32mLINKING\u001b[0m executable ./special LDFLAGS are:    -pthread\n",
            "Successfully created x86_64/special\n"
          ]
        }
      ],
      "source": [
        "!nrnivmodl components/mechanisms/ > /dev/null 2>&1"
      ]
    },
    {
      "cell_type": "code",
      "execution_count": null,
      "metadata": {
        "id": "I3muSaGbU0o5"
      },
      "outputs": [],
      "source": [
        "# Build the network\n",
        "!python build_network.py\n",
        "!python update_configs.py"
      ]
    },
    {
      "cell_type": "code",
      "execution_count": null,
      "metadata": {
        "colab": {
          "base_uri": "https://localhost:8080/"
        },
        "id": "dVpJMjPKU9Z1",
        "outputId": "0ded7fff-061b-41d3-d190-cbca909029f2"
      },
      "outputs": [
        {
          "name": "stdout",
          "output_type": "stream",
          "text": [
            "/usr/local/bin/nrniv:10: DeprecationWarning: pkg_resources is deprecated as an API. See https://setuptools.pypa.io/en/latest/pkg_resources.html\n",
            "  from pkg_resources import working_set\n",
            "Warning: no DISPLAY environment variable.\n",
            "--No graphics will be displayed.\n",
            "NEURON -- VERSION 8.2.6+ HEAD (078a34a9d+) 2024-07-24\n",
            "Duke, Yale, and the BlueBrain Project -- Copyright 1984-2022\n",
            "See http://neuron.yale.edu/neuron/credits\n",
            "\n",
            "loading membrane mechanisms from x86_64/.libs/libnrnmech.so\n",
            "Additional mechanisms from files\n",
            " \"components/mechanisms//gap.mod\" \"components/mechanisms//k_rtm.mod\" \"components/mechanisms//k_wb.mod\" \"components/mechanisms//leak.mod\" \"components/mechanisms//na_rtm.mod\" \"components/mechanisms//na_wb.mod\" \"components/mechanisms//vecevent.mod\"\n",
            "2024-11-12 17:53:12,105 [INFO] Created log file\n",
            "NEURON mechanisms not found in /content/PING-bmtk/components/mechanisms.\n",
            "2024-11-12 17:53:12,182 [INFO] Building cells.\n",
            "2024-11-12 17:53:12,405 [INFO] Building recurrent connections\n",
            "2024-11-12 17:53:13,644 [INFO] Running simulation for 4000.000 ms with the time step 0.100 ms\n",
            "2024-11-12 17:53:13,644 [INFO] Starting timestep: 0 at t_sim: 0.000 ms\n",
            "2024-11-12 17:53:13,644 [INFO] Block save every 5000 steps\n",
            "2024-11-12 17:53:33,265 [INFO]     step:5000 t_sim:500.00 ms\n",
            "2024-11-12 17:53:54,455 [INFO]     step:10000 t_sim:1000.00 ms\n",
            "2024-11-12 17:54:15,301 [INFO]     step:15000 t_sim:1500.00 ms\n",
            "2024-11-12 17:54:36,771 [INFO]     step:20000 t_sim:2000.00 ms\n",
            "2024-11-12 17:54:56,785 [INFO]     step:25000 t_sim:2500.00 ms\n",
            "2024-11-12 17:55:18,314 [INFO]     step:30000 t_sim:3000.00 ms\n",
            "2024-11-12 17:55:38,243 [INFO]     step:35000 t_sim:3500.00 ms\n",
            "2024-11-12 17:56:00,060 [INFO]     step:40000 t_sim:4000.00 ms\n",
            "2024-11-12 17:56:00,152 [INFO] Simulation completed in 2.0 minutes, 46.51 seconds \n"
          ]
        }
      ],
      "source": [
        "# Run the simulation\n",
        "!nrniv -python run_bionet.py config.json"
      ]
    },
    {
      "cell_type": "code",
      "execution_count": null,
      "metadata": {
        "colab": {
          "base_uri": "https://localhost:8080/"
        },
        "id": "ejmXlYHZaGmI",
        "outputId": "55b6d422-92df-4311-9b69-de7431930d83"
      },
      "outputs": [
        {
          "name": "stdout",
          "output_type": "stream",
          "text": [
            "The network is oscillating around 31.27401871135708 Hz.\n"
          ]
        }
      ],
      "source": [
        "# Check oscillation frequency\n",
        "spikes = SpikeTrains.load('output/spikes.h5', population = 'PING-Assembly')\n",
        "ISI = np.diff(np.sort(spikes.get_times(node_id = 0)))\n",
        "print(f\"The network is oscillating around {1000 / np.mean(ISI)} Hz.\")"
      ]
    },
    {
      "cell_type": "code",
      "execution_count": null,
      "metadata": {
        "colab": {
          "base_uri": "https://localhost:8080/",
          "height": 378
        },
        "id": "N78gLISMaG6I",
        "outputId": "874196c6-ee33-49f5-cbc4-c504b6ca3c59"
      },
      "outputs": [
        {
          "data": {
            "image/png": "[encoded data removed]",
            "text/plain": [
              "<Figure size 1000x400 with 1 Axes>"
            ]
          },
          "metadata": {},
          "output_type": "display_data"
        }
      ],
      "source": [
        "plt.rcParams.update({'font.size': 18})\n",
        "# Plot the spike raster\n",
        "with open(\"gid_info.json\", \"r\") as file:\n",
        "    gids = json.load(file)\n",
        "\n",
        "fig, ax = plt.subplots(1, 1, figsize = (10, 4))\n",
        "\n",
        "N_SPIKES_TO_PLOT = 10\n",
        "N_NODES_TO_PLOT = np.max([len(np.array(gids['all_gids']).flatten()), 100])\n",
        "\n",
        "for node_id in range(N_NODES_TO_PLOT):\n",
        "    if node_id in gids[\"all_exc_gids\"]:\n",
        "        color = \"red\"; label = 'exc'\n",
        "    elif node_id in gids[\"all_inh_gids\"]:\n",
        "        color = \"blue\"; label = 'inh'\n",
        "\n",
        "    spikes_per_node = np.sort(spikes.get_times(node_id = node_id))[:N_SPIKES_TO_PLOT]\n",
        "    sc = ax.scatter(spikes_per_node, [node_id] * len(spikes_per_node), c = color, label = label)\n",
        "\n",
        "ax.set_ylabel(\"Node ID\")\n",
        "ax.set_xlabel(\"Time (ms)\")\n",
        "ax.set_title(\"Spike Raster\")\n",
        "\n",
        "handles, labels = ax.get_legend_handles_labels()\n",
        "legend = ax.legend(\n",
        "    [handles[labels.index(\"exc\")], handles[labels.index(\"inh\")]],\n",
        "    [\"Exc\", \"Inh\"],\n",
        "    loc = \"upper right\",\n",
        "    title = \"Cell Type\")"
      ]
    },
    {
      "cell_type": "markdown",
      "metadata": {},
      "source": [
        "## Bibliography\n",
        "\n",
        "[1] Börgers, C. (2017). An introduction to modeling neuronal dynamics (Vol. 66). Berlin: Springer."
      ]
    }
  ],
  "metadata": {
    "colab": {
      "provenance": []
    },
    "kernelspec": {
      "display_name": "Python 3",
      "name": "python3"
    },
    "language_info": {
      "name": "python"
    }
  },
  "nbformat": 4,
  "nbformat_minor": 0
}
