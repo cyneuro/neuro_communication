{
 "cells": [
  {
   "cell_type": "markdown",
   "id": "9bff71a7-b269-40bf-b2cd-c78f5d103ea2",
   "metadata": {},
   "source": [
    "# Spatial Computing Theory"
   ]
  },
  {
   "cell_type": "markdown",
   "id": "2d217365-f211-4012-ba35-67bb6bdb85ae",
   "metadata": {},
   "source": [
    "The Spatial Computing Hypothesis suggests that bursts of gamma brain rhythms are associated with activity corresponding to the representation of working memory (WM) items across the network and beta bursts as a working memory control signal, allowing items to be retrieved, moved, and read out. This enables control of working memory without knowledge of precise network connectivity. This theory relies on the assumption that working memory item representations are consistently moved across spatial dimensions of the cortical network depending on task demands. If a given item's location in the network space is known, it can be operated on, even without knowing the identity of the items. It has been demonstrated that working memory operations correspond to different locations in the prefrontal cortex, implying that computations can be flexibly carried out without knowledge of which item is being worked on. "
   ]
  },
  {
   "cell_type": "markdown",
   "id": "bec6332f-00fb-4f3f-89b7-f357db14b3a6",
   "metadata": {},
   "source": [
    "This theory also offers a new perspective on the role of low dimensional activity that often dominates cortical activity as working memory operations. It has been hypothesized that spatial computing utilizes a spatial component of the network as an additional information encoding dimension, facilitating processes such as generalization and zero shot learning. This has also been demonstrated experimentally. Several observations support this hypothesis including: \n",
    "- Representational redundancy in cortical activity\n",
    "- Changes in low dimensional cortical activity have been demonstrated to correlate with task learning.\n",
    "- Cortical population spiking is consistent with when working memory items rotate through spatial representations in the prefrontal cortex.\n",
    "- Observations that neuronal spiking is highly task dependent"
   ]
  },
  {
   "cell_type": "markdown",
   "id": "521e904a-ae05-40f9-ae09-0ae9d9b52049",
   "metadata": {},
   "source": [
    "The role of brief beta bursts in working memory has recently been more thoroughly invvestigated. It has been demonstrated that these bursts, rather than sustained oscillations in the beta band, provide transient, functional inhibition in cognitive processes. It has been demonstrated that burst coincidence between regions is a better indicator of interareal communication than coherence, and coherence may even result from bursting activity. Functionally, interactions resulting from burst coincidence are robust as they do not have to rely on phase locking or small timescale synchronization between brain rhythms in different neural regions. "
   ]
  },
  {
   "cell_type": "markdown",
   "id": "9235fe0b-6dd2-41d6-b311-b6a4f693fd85",
   "metadata": {},
   "source": [
    "In the past beta oscillations were averaged between regions with the aim of removing noise. However, in recent studies exploring non-averaged beta oscillations it has been demonstrated that beta oscillations tend to occur in bursts such that averaging may have been removing signatures of neural dynamics rather than noise. It has been demonstrated that brain-wide, spatiotemporal patterns of beta bursts are characteristic of high level cognitive operations and their dynamics relate to nonlinear aspects of cortical processing. This observation is important for future research as it implies that cognition and executive control are supported by switching between discrete states rather than slow, continuous dynamics. "
   ]
  },
  {
   "cell_type": "markdown",
   "id": "b6934284-fc6d-4a1a-b5d6-8b0dde19defc",
   "metadata": {},
   "source": [
    "This is particularly relevant to the role of beta bursts in executive control of working memory. Here, functional inhibition - or the operational effect of disrupting task related computations - is particularly important. Beta bursts correlate with the inhibitory exectuive functions in working memory, and are as a result, anticorrelated with gamma bursts. This further supports the idea that beta and gamma bursts are functionally separate, and that transient inhibiton and reactivation is crucial to the role of working memory. This phenomenon enables selective control of working memory items on a fine spatial scale. Beta bursts are also linked to other cognitive processes beyond working memory. "
   ]
  },
  {
   "cell_type": "markdown",
   "id": "887ef9ff-141e-4b67-98c5-9ef8de5579fc",
   "metadata": {},
   "source": [
    "### Sources\n",
    "\n",
    "Lundqvist, M., Brincat, S. L., Rose, J., Warden, M. R., Buschman, T. J., Miller, E. K., & Herman, P. (2023). Working memory control dynamics follow principles of spatial computing. Nature communications, 14(1), 1429. \n",
    "\n",
    "Lundqvist, M., Miller, E. K., Nordmark, J., Liljefors, J., & Herman, P. (2024). Beta: bursts of cognition. Trends in Cognitive Sciences."
   ]
  }
 ],
 "metadata": {
  "kernelspec": {
   "display_name": "Python 3 (ipykernel)",
   "language": "python",
   "name": "python3"
  },
  "language_info": {
   "codemirror_mode": {
    "name": "ipython",
    "version": 3
   },
   "file_extension": ".py",
   "mimetype": "text/x-python",
   "name": "python",
   "nbconvert_exporter": "python",
   "pygments_lexer": "ipython3",
   "version": "3.12.7"
  }
 },
 "nbformat": 4,
 "nbformat_minor": 5
}
